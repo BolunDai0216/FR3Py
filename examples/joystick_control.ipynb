{
 "cells": [
  {
   "attachments": {},
   "cell_type": "markdown",
   "metadata": {},
   "source": [
    "# Control The Robot with Joystick"
   ]
  },
  {
   "cell_type": "code",
   "execution_count": 1,
   "metadata": {},
   "outputs": [
    {
     "name": "stdout",
     "output_type": "stream",
     "text": [
      "Interface Running...\n"
     ]
    }
   ],
   "source": [
    "from FR3Py.interfaces import FR3Real\n",
    "robot = FR3Real()"
   ]
  },
  {
   "cell_type": "markdown",
   "metadata": {},
   "source": [
    "Test the interface by reading the robot joints:"
   ]
  },
  {
   "cell_type": "code",
   "execution_count": 2,
   "metadata": {},
   "outputs": [
    {
     "data": {
      "text/plain": [
       "{'q': array([-4.66836149e-05, -7.85045044e-01,  6.62306962e-05, -2.35659225e+00,\n",
       "         6.83355540e-05,  1.57074000e+00,  7.85491554e-01,  0.00000000e+00,\n",
       "         0.00000000e+00]),\n",
       " 'dq': array([ 9.98833452e-04, -1.74796479e-03,  4.14957034e-04,  8.28514799e-05,\n",
       "         1.53946317e-03, -1.86469280e-05,  4.01700470e-04,  0.00000000e+00,\n",
       "         0.00000000e+00]),\n",
       " 'T': array([ 1.18846558e-01, -4.55847836e+00, -6.82967067e-01,  2.33390026e+01,\n",
       "         8.24326515e-01,  2.38965559e+00,  9.06659663e-03,  0.00000000e+00,\n",
       "         0.00000000e+00])}"
      ]
     },
     "execution_count": 2,
     "metadata": {},
     "output_type": "execute_result"
    }
   ],
   "source": [
    "robot.get_state()"
   ]
  },
  {
   "cell_type": "code",
   "execution_count": 3,
   "metadata": {},
   "outputs": [
    {
     "name": "stdout",
     "output_type": "stream",
     "text": [
      "pygame 2.5.1 (SDL 2.28.2, Python 3.8.15)\n",
      "Hello from the pygame community. https://www.pygame.org/contribute.html\n",
      "Put your stick at zero location and do not touch it\n"
     ]
    }
   ],
   "source": [
    "from pyJoy.joy_daq import JoyManager\n",
    "import time    \n",
    "joy1  = JoyManager()\n",
    "joy1.start_daq(joy_idx=0)\n",
    "joy1.offset_calibration()\n",
    "time.sleep(3)"
   ]
  },
  {
   "cell_type": "code",
   "execution_count": 25,
   "metadata": {},
   "outputs": [
    {
     "ename": "KeyboardInterrupt",
     "evalue": "",
     "output_type": "error",
     "traceback": [
      "\u001b[0;31m---------------------------------------------------------------------------\u001b[0m",
      "\u001b[0;31mKeyboardInterrupt\u001b[0m                         Traceback (most recent call last)",
      "Cell \u001b[0;32mIn[25], line 47\u001b[0m\n\u001b[1;32m     42\u001b[0m     omega_hat \u001b[39m=\u001b[39m np\u001b[39m.\u001b[39marray([[ \u001b[39m0\u001b[39m,       \u001b[39m-\u001b[39mcmd[\u001b[39m2\u001b[39m],  cmd[\u001b[39m1\u001b[39m]],\n\u001b[1;32m     43\u001b[0m                           [ cmd[\u001b[39m2\u001b[39m],   \u001b[39m0\u001b[39m,      \u001b[39m-\u001b[39mcmd[\u001b[39m0\u001b[39m]],\n\u001b[1;32m     44\u001b[0m                           [\u001b[39m-\u001b[39mcmd[\u001b[39m1\u001b[39m],   cmd[\u001b[39m0\u001b[39m],      \u001b[39m0\u001b[39m]])\n\u001b[1;32m     45\u001b[0m     R0 \u001b[39m=\u001b[39m R0\u001b[39m@\u001b[39m(np\u001b[39m.\u001b[39meye(\u001b[39m3\u001b[39m)\u001b[39m+\u001b[39momega_hat\u001b[39m/\u001b[39m\u001b[39m100\u001b[39m)\n\u001b[0;32m---> 47\u001b[0m time\u001b[39m.\u001b[39;49msleep(\u001b[39m0.01\u001b[39;49m)\n\u001b[1;32m     48\u001b[0m T\u001b[39m=\u001b[39m T0\u001b[39m@np\u001b[39m\u001b[39m.\u001b[39mvstack([np\u001b[39m.\u001b[39mhstack([R0, np\u001b[39m.\u001b[39marray([x0,y0,z0])\u001b[39m.\u001b[39mreshape(\u001b[39m3\u001b[39m,\u001b[39m1\u001b[39m)]), np\u001b[39m.\u001b[39marray([\u001b[39m0\u001b[39m,\u001b[39m0\u001b[39m,\u001b[39m0\u001b[39m,\u001b[39m1\u001b[39m])])\n\u001b[1;32m     49\u001b[0m state \u001b[39m=\u001b[39m robot\u001b[39m.\u001b[39mget_state()\n",
      "\u001b[0;31mKeyboardInterrupt\u001b[0m: "
     ]
    }
   ],
   "source": [
    "import time\n",
    "import numpy as np\n",
    "from FR3Py.controllers.waypoint_controller import WaypointController\n",
    "import datetime\n",
    "current_datetime = datetime.datetime.now()\n",
    "formatted_datetime = current_datetime.strftime(\"%Y-%m-%d_%H-%M-%S\")\n",
    "\n",
    "controller = WaypointController(kp=4)\n",
    "# Read the initila pose of the robot\n",
    "time.sleep(1)\n",
    "state = robot.get_state()\n",
    "\n",
    "q, dq = state['q'], state['dq']\n",
    "p0 = controller.robot.getInfo(q,dq)['P_EE']\n",
    "R0 = controller.robot.getInfo(q,dq)['R_EE']\n",
    "\n",
    "T0 = np.vstack([np.hstack([R0, p0.reshape(3,1)]), np.array([0,0,0,1])])\n",
    "start_time = time.time()\n",
    "\n",
    "x0, y0, z0 = 0.0, 0.0, 0.0 \n",
    "R0 = np.eye(3)\n",
    "ef_poses = []\n",
    "stamps = []\n",
    "while True:\n",
    "    trans = controller.robot.getInfo(q,dq)['P_EE']\n",
    "    rot = controller.robot.getInfo(q,dq)['R_EE']\n",
    "    stamps.append(time.time())\n",
    "    pose = np.vstack([np.hstack([rot, trans.reshape(3,1)]), np.array([0,0,0,1])])\n",
    "    ef_poses.append(pose)\n",
    "    \n",
    "    analog, digital = joy1.read_values()\n",
    "    cmd = np.array([analog[0],analog[1],analog[2]])\n",
    "    for i in range(3):\n",
    "        if np.abs(cmd[i])<0.1:\n",
    "            cmd[i] = 0 \n",
    "\n",
    "    if digital[0]==0:\n",
    "        y0 = y0 - cmd[0]*0.2/100\n",
    "        x0 = x0 - cmd[1]*0.2/100\n",
    "        z0 = z0 + cmd[2]*0.2/100\n",
    "    else:\n",
    "        omega_hat = np.array([[ 0,       -cmd[2],  cmd[1]],\n",
    "                              [ cmd[2],   0,      -cmd[0]],\n",
    "                              [-cmd[1],   cmd[0],      0]])\n",
    "        R0 = R0@(np.eye(3)+omega_hat/100)\n",
    "\n",
    "    time.sleep(0.01)\n",
    "    T= T0@np.vstack([np.hstack([R0, np.array([x0,y0,z0]).reshape(3,1)]), np.array([0,0,0,1])])\n",
    "    state = robot.get_state()\n",
    "    q, dq = state['q'], state['dq']\n",
    "    cmd = controller.compute(q,dq, T_cmd=T)\n",
    "    robot.send_joint_command(cmd[0:7])"
   ]
  },
  {
   "cell_type": "code",
   "execution_count": 26,
   "metadata": {},
   "outputs": [],
   "source": [
    "import pickle\n",
    "ef_poses = np.stack(ef_poses)\n",
    "stamps = np.array(stamps)\n",
    "dataset = {'stamp':stamps, 'base_T_ef':ef_poses}\n",
    "with open(f'nerf_dataset1_{formatted_datetime}.pckl', 'wb') as f:\n",
    "    pickle.dump(dataset,f)"
   ]
  },
  {
   "cell_type": "code",
   "execution_count": 24,
   "metadata": {},
   "outputs": [
    {
     "data": {
      "text/plain": [
       "{'stamp': array([1.69344500e+09, 1.69344500e+09, 1.69344500e+09, ...,\n",
       "        1.69344516e+09, 1.69344516e+09, 1.69344516e+09]),\n",
       " 'base_T_ef': array([[[ 0.99844215, -0.0500552 ,  0.02465269,  0.38426484],\n",
       "         [-0.04964913, -0.99862512, -0.01681783, -0.05075856],\n",
       "         [ 0.02546061,  0.01556764, -0.9995546 ,  0.43348248],\n",
       "         [ 0.        ,  0.        ,  0.        ,  1.        ]],\n",
       " \n",
       "        [[ 0.9984424 , -0.05004603,  0.02466099,  0.38426553],\n",
       "         [-0.04963985, -0.99862559, -0.01681693, -0.05075778],\n",
       "         [ 0.02546871,  0.01556657, -0.99955441,  0.43348508],\n",
       "         [ 0.        ,  0.        ,  0.        ,  1.        ]],\n",
       " \n",
       "        [[ 0.99844199, -0.050056  ,  0.02465755,  0.38426473],\n",
       "         [-0.04964989, -0.99862511, -0.01681617, -0.05075906],\n",
       "         [ 0.0254654 ,  0.01556572, -0.99955451,  0.43348342],\n",
       "         [ 0.        ,  0.        ,  0.        ,  1.        ]],\n",
       " \n",
       "        ...,\n",
       " \n",
       "        [[ 0.81250644, -0.10076659, -0.57417713,  0.51478534],\n",
       "         [-0.04000518, -0.99226332,  0.11752911, -0.37099336],\n",
       "         [-0.58157792, -0.0725231 , -0.81025152,  0.34254977],\n",
       "         [ 0.        ,  0.        ,  0.        ,  1.        ]],\n",
       " \n",
       "        [[ 0.81250644, -0.10076659, -0.57417713,  0.51478534],\n",
       "         [-0.04000518, -0.99226332,  0.11752911, -0.37099336],\n",
       "         [-0.58157792, -0.0725231 , -0.81025152,  0.34254977],\n",
       "         [ 0.        ,  0.        ,  0.        ,  1.        ]],\n",
       " \n",
       "        [[ 0.81250644, -0.10076659, -0.57417713,  0.51478534],\n",
       "         [-0.04000518, -0.99226332,  0.11752911, -0.37099336],\n",
       "         [-0.58157792, -0.0725231 , -0.81025152,  0.34254977],\n",
       "         [ 0.        ,  0.        ,  0.        ,  1.        ]]])}"
      ]
     },
     "execution_count": 24,
     "metadata": {},
     "output_type": "execute_result"
    }
   ],
   "source": [
    "dataset"
   ]
  },
  {
   "cell_type": "code",
   "execution_count": null,
   "metadata": {},
   "outputs": [],
   "source": []
  }
 ],
 "metadata": {
  "kernelspec": {
   "display_name": "Python 3",
   "language": "python",
   "name": "python3"
  },
  "language_info": {
   "codemirror_mode": {
    "name": "ipython",
    "version": 3
   },
   "file_extension": ".py",
   "mimetype": "text/x-python",
   "name": "python",
   "nbconvert_exporter": "python",
   "pygments_lexer": "ipython3",
   "version": "3.8.15"
  },
  "orig_nbformat": 4,
  "vscode": {
   "interpreter": {
    "hash": "916dbcbb3f70747c44a77c7bcd40155683ae19c65e1c03b4aa3499c5328201f1"
   }
  }
 },
 "nbformat": 4,
 "nbformat_minor": 2
}
