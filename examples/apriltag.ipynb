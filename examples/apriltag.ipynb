{
 "cells": [
  {
   "cell_type": "code",
   "execution_count": null,
   "metadata": {},
   "outputs": [],
   "source": [
    "import apriltag\n",
    "import cv2\n",
    "from FR3Py.cameras import RealSenseCamera\n",
    "camera = RealSenseCamera(VGA=False, enable_imu=False, enable_ir=True, emitter_enabled=False)\n"
   ]
  },
  {
   "cell_type": "code",
   "execution_count": null,
   "metadata": {},
   "outputs": [],
   "source": [
    "import matplotlib.pyplot as plt\n",
    "camera.grab_frames()\n",
    "plt.imshow(camera.ir1_frame,cmap='gray')\n",
    "detector = apriltag.Detector()"
   ]
  },
  {
   "cell_type": "code",
   "execution_count": 137,
   "metadata": {},
   "outputs": [],
   "source": [
    "camera.close()"
   ]
  },
  {
   "cell_type": "code",
   "execution_count": null,
   "metadata": {},
   "outputs": [],
   "source": [
    "from pupil_apriltags import Detector\n",
    "at_detector = Detector(\n",
    "        families=families,\n",
    "        nthreads=nthreads,\n",
    "        quad_decimate=quad_decimate,\n",
    "        quad_sigma=quad_sigma,\n",
    "        refine_edges=refine_edges,\n",
    "        decode_sharpening=decode_sharpening,\n",
    "        debug=debug,\n",
    "    )"
   ]
  },
  {
   "cell_type": "code",
   "execution_count": null,
   "metadata": {},
   "outputs": [],
   "source": [
    "import apriltag\n",
    "detector = apriltag.Detector()"
   ]
  },
  {
   "cell_type": "code",
   "execution_count": null,
   "metadata": {},
   "outputs": [],
   "source": [
    "from pupil_apriltags import Detector\n",
    "detector = Detector()\n",
    "fx, fy, cx, cy = (300,300,120,120)\n",
    "detector.detect(camera.ir1_frame, estimate_tag_pose=True, camera_params=[fx, fy, cx, cy], tag_size=0.172)"
   ]
  },
  {
   "cell_type": "code",
   "execution_count": 169,
   "metadata": {},
   "outputs": [
    {
     "name": "stdout",
     "output_type": "stream",
     "text": [
      "Enabling streams for camera:  141322250720\n",
      "Warning: HD color fps cannot be higher than 30\n",
      "Warning: HD depth/infrared fps cannot be higher than 30\n"
     ]
    }
   ],
   "source": [
    "camera = RealSenseCamera(VGA=False, enable_imu=False, enable_ir=True, emitter_enabled=True)"
   ]
  },
  {
   "cell_type": "code",
   "execution_count": 167,
   "metadata": {},
   "outputs": [],
   "source": [
    "camera.close()"
   ]
  },
  {
   "cell_type": "code",
   "execution_count": 172,
   "metadata": {},
   "outputs": [
    {
     "name": "stderr",
     "output_type": "stream",
     "text": [
      "Exception in thread Thread-8:\n",
      "Traceback (most recent call last):\n",
      "  File \"/home/mocap/.pyenv/versions/3.8.15/lib/python3.8/threading.py\", line 932, in _bootstrap_inner\n",
      "    self.run()\n",
      "  File \"/home/mocap/.pyenv/versions/3.8.15/lib/python3.8/threading.py\", line 870, in run\n",
      "    self._target(*self._args, **self._kwargs)\n",
      "  File \"/tmp/ipykernel_103767/1195450228.py\", line 91, in _run_grab_frames\n",
      "  File \"/tmp/ipykernel_103767/1195450228.py\", line 103, in grab_frames\n",
      "RuntimeError: Frame didn't arrive within 5000\n"
     ]
    }
   ],
   "source": [
    "camera.grab_frames()"
   ]
  },
  {
   "cell_type": "code",
   "execution_count": 165,
   "metadata": {},
   "outputs": [
    {
     "data": {
      "text/plain": [
       "array([(0., 0.), (0., 0.), (0., 0.), ..., (0., 0.), (0., 0.), (0., 0.)],\n",
       "      dtype=[('f0', '<f4'), ('f1', '<f4')])"
      ]
     },
     "execution_count": 165,
     "metadata": {},
     "output_type": "execute_result"
    }
   ],
   "source": [
    "import pyrealsense2 as rs\n",
    "pc = rs.pointcloud()\n",
    "points = pc.calculate(frames.get_depth_frame())\n",
    "pc.map_to(frames.get_depth_frame())\n",
    "vtx = np.asanyarray(points.get_vertices())\n",
    "tex = np.asanyarray(points.get_texture_coordinates())\n",
    "tex"
   ]
  },
  {
   "cell_type": "code",
   "execution_count": null,
   "metadata": {},
   "outputs": [],
   "source": []
  }
 ],
 "metadata": {
  "kernelspec": {
   "display_name": "Python 3",
   "language": "python",
   "name": "python3"
  },
  "language_info": {
   "codemirror_mode": {
    "name": "ipython",
    "version": 3
   },
   "file_extension": ".py",
   "mimetype": "text/x-python",
   "name": "python",
   "nbconvert_exporter": "python",
   "pygments_lexer": "ipython3",
   "version": "3.8.15"
  },
  "orig_nbformat": 4
 },
 "nbformat": 4,
 "nbformat_minor": 2
}
