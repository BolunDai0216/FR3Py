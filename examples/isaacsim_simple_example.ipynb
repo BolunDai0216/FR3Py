{
 "cells": [
  {
   "cell_type": "code",
   "execution_count": null,
   "metadata": {},
   "outputs": [],
   "source": [
    "from FR3Py.lcm_msgs.fr3_commands import fr3_cmd\n",
    "from FR3Py.lcm_msgs.fr3_states import fr3_state\n",
    "from FR3Py.sim.lcm_bridges import LCMBridgeClient\n",
    "from FR3Py.utils import NumpyMemMapDataPipe\n",
    "import numpy as np"
   ]
  },
  {
   "cell_type": "code",
   "execution_count": null,
   "metadata": {},
   "outputs": [],
   "source": [
    "import yaml\n",
    "\n",
    "def load_config(file_path):\n",
    "    with open(file_path, 'r') as file:\n",
    "        config = yaml.safe_load(file)\n",
    "    return config"
   ]
  },
  {
   "cell_type": "code",
   "execution_count": null,
   "metadata": {},
   "outputs": [],
   "source": [
    "cfg = load_config(\"/home/mocap/manipulation/rooholla/FR3Py/FR3Py/sim/isaac/sim_config.yaml\")"
   ]
  },
  {
   "cell_type": "code",
   "execution_count": null,
   "metadata": {},
   "outputs": [],
   "source": [
    "camera_pipes = []\n",
    "for camera in cfg['cameras']:\n",
    "    if camera['type'] == 'rgb':\n",
    "        shape = (camera['resolution'][1], camera['resolution'][0], 4)\n",
    "    else:\n",
    "        shape = (camera['resolution'][1], camera['resolution'][0])\n",
    "    camera_pipes.append(NumpyMemMapDataPipe(camera['name']+'_'+camera['type'], force = False, shape= shape))\n",
    "    print(camera['name']+'_'+camera['type'])"
   ]
  },
  {
   "cell_type": "code",
   "execution_count": null,
   "metadata": {},
   "outputs": [],
   "source": [
    "lcm_bridge = LCMBridgeClient(robot_name='fr3')"
   ]
  },
  {
   "cell_type": "code",
   "execution_count": null,
   "metadata": {},
   "outputs": [],
   "source": [
    "import cv2\n",
    "cmd  = fr3_cmd()\n",
    "\n",
    "while True:\n",
    "    state = lcm_bridge.getStates(timeout=0.1)\n",
    "    cmd.cmd =  9*[np.random.randn(1)*1]\n",
    "    lcm_bridge.sendCommands(cmd)\n",
    "    imgs =  [pipe.read() for pipe in camera_pipes]\n",
    "    for i, img in enumerate(imgs):\n",
    "        cv2.imshow(f'{i}', img)\n",
    "    cv2.waitKey(1)"
   ]
  },
  {
   "cell_type": "code",
   "execution_count": null,
   "metadata": {},
   "outputs": [],
   "source": [
    "cv2.destroyAllWindows()"
   ]
  }
 ],
 "metadata": {
  "kernelspec": {
   "display_name": "walk_these_ways",
   "language": "python",
   "name": "python3"
  },
  "language_info": {
   "codemirror_mode": {
    "name": "ipython",
    "version": 3
   },
   "file_extension": ".py",
   "mimetype": "text/x-python",
   "name": "python",
   "nbconvert_exporter": "python",
   "pygments_lexer": "ipython3",
   "version": "3.8.15"
  }
 },
 "nbformat": 4,
 "nbformat_minor": 2
}
