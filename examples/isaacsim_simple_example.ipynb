{
 "cells": [
  {
   "cell_type": "code",
   "execution_count": null,
   "metadata": {},
   "outputs": [],
   "source": [
    "from FR3Py.lcm_msgs.fr3_commands import fr3_cmd\n",
    "from FR3Py.lcm_msgs.fr3_states import fr3_state\n",
    "from FR3Py.sim.lcm_bridges import LCMBridgeClient\n",
    "from FR3Py.utils import NumpyMemMapDataPipe\n",
    "import numpy as np"
   ]
  },
  {
   "cell_type": "code",
   "execution_count": null,
   "metadata": {},
   "outputs": [],
   "source": [
    "lcm_bridge = LCMBridgeClient(robot_name='fr3')"
   ]
  },
  {
   "cell_type": "code",
   "execution_count": null,
   "metadata": {},
   "outputs": [],
   "source": [
    "\n",
    "rgb_data_pipe = NumpyMemMapDataPipe(\n",
    "    \"rgb\", force=False, dtype=\"uint8\", shape=(480, 640, 4)\n",
    ")\n",
    "\n",
    "depth_data_pipe = NumpyMemMapDataPipe(\n",
    "    \"depth\", force=False, dtype=\"float32\", shape=(480, 640)\n",
    ")"
   ]
  },
  {
   "cell_type": "code",
   "execution_count": null,
   "metadata": {},
   "outputs": [],
   "source": [
    "import cv2\n",
    "cmd  = fr3_cmd()\n",
    "\n",
    "while True:\n",
    "    state = lcm_bridge.getStates(timeout=0.1)\n",
    "    cmd.cmd =  9*[0.1]\n",
    "    lcm_bridge.sendCommands(cmd)\n",
    "    img =  rgb_data_pipe.read()\n",
    "    depth_map = depth_data_pipe.read()\n",
    "    cv2.imshow('rgb', img)\n",
    "    cv2.waitKey(1)"
   ]
  },
  {
   "cell_type": "code",
   "execution_count": null,
   "metadata": {},
   "outputs": [],
   "source": [
    "cv2.destroyAllWindows()"
   ]
  }
 ],
 "metadata": {
  "kernelspec": {
   "display_name": "walk_these_ways",
   "language": "python",
   "name": "python3"
  },
  "language_info": {
   "codemirror_mode": {
    "name": "ipython",
    "version": 3
   },
   "file_extension": ".py",
   "mimetype": "text/x-python",
   "name": "python",
   "nbconvert_exporter": "python",
   "pygments_lexer": "ipython3",
   "version": "3.8.15"
  }
 },
 "nbformat": 4,
 "nbformat_minor": 2
}
