{
 "cells": [
  {
   "cell_type": "markdown",
   "metadata": {},
   "source": [
    "# Isaac Sim Example\n",
    "In this notebook, we simulate the robot with joint velocity interface using the Nvidia Isaac Sim. Before running this notebook, make sure you follow through the installation procedure and then run the following command to start the simulation node:\n",
    "\n",
    "```bash\n",
    "./fr3py.sh --sim\n",
    "```\n",
    "\n",
    "This will launch the Isaac Sim environment. After the environment is fully launched, use the `FR3IsaacSim` interface class to interact with it. The API is fully compatible with the `FR3Real` class."
   ]
  },
  {
   "cell_type": "code",
   "execution_count": 1,
   "metadata": {},
   "outputs": [
    {
     "name": "stdout",
     "output_type": "stream",
     "text": [
      "ef_camera_distance_to_camera\n",
      "ef_camera_rgb\n",
      "perspective_rgb\n"
     ]
    }
   ],
   "source": [
    "from FR3Py.sim.interface import FR3IsaacSim\n",
    "robot = FR3IsaacSim()"
   ]
  },
  {
   "cell_type": "markdown",
   "metadata": {},
   "source": [
    "Note that in addition to the possibility of reading the states, we can also read image data from the cameras placed inside the simulator. Note that the configuration and placement of these cameras alongside the scene configuration, robot stand, and etc may be modified through editing the 'FR3Py/sim/isaac/sim_config.yaml' configuration file.\n",
    "\n",
    "Let's first just send random velocity commands to the robot and see it's movements:"
   ]
  },
  {
   "cell_type": "code",
   "execution_count": 9,
   "metadata": {},
   "outputs": [],
   "source": [
    "import cv2\n",
    "import numpy as np\n",
    "for i in range(1000):\n",
    "    state = robot.getStates()\n",
    "    robot.sendCommands(np.random.randn(9))\n",
    "    imgs =  robot.readCameras()\n",
    "    for stream_name, img in imgs.items():\n",
    "        cv2.imshow(f'{stream_name}', img)\n",
    "    cv2.waitKey(1)\n",
    "\n",
    "cv2.destroyAllWindows()"
   ]
  },
  {
   "cell_type": "markdown",
   "metadata": {},
   "source": [
    "Now that we can command the robot to have random motion, let's control the end-effector pose using the same controller we used for controlling the real robot:"
   ]
  },
  {
   "cell_type": "code",
   "execution_count": 2,
   "metadata": {},
   "outputs": [
    {
     "name": "stdout",
     "output_type": "stream",
     "text": [
      "starting the controller\n"
     ]
    },
    {
     "ename": "KeyboardInterrupt",
     "evalue": "",
     "output_type": "error",
     "traceback": [
      "\u001b[0;31m---------------------------------------------------------------------------\u001b[0m",
      "\u001b[0;31mKeyboardInterrupt\u001b[0m                         Traceback (most recent call last)",
      "\u001b[1;32m/home/mocap/manipulation/rooholla/FR3Py/examples/isaacsim_tutorial.ipynb Cell 6\u001b[0m line \u001b[0;36m3\n\u001b[1;32m     <a href='vscode-notebook-cell:/home/mocap/manipulation/rooholla/FR3Py/examples/isaacsim_tutorial.ipynb#X40sZmlsZQ%3D%3D?line=27'>28</a>\u001b[0m     state \u001b[39m=\u001b[39m robot\u001b[39m.\u001b[39mgetStates()\n\u001b[1;32m     <a href='vscode-notebook-cell:/home/mocap/manipulation/rooholla/FR3Py/examples/isaacsim_tutorial.ipynb#X40sZmlsZQ%3D%3D?line=28'>29</a>\u001b[0m     q, dq \u001b[39m=\u001b[39m state[\u001b[39m'\u001b[39m\u001b[39mq\u001b[39m\u001b[39m'\u001b[39m], state[\u001b[39m'\u001b[39m\u001b[39mdq\u001b[39m\u001b[39m'\u001b[39m]\n\u001b[0;32m---> <a href='vscode-notebook-cell:/home/mocap/manipulation/rooholla/FR3Py/examples/isaacsim_tutorial.ipynb#X40sZmlsZQ%3D%3D?line=29'>30</a>\u001b[0m     cmd \u001b[39m=\u001b[39m controller\u001b[39m.\u001b[39;49mcompute(q, dq, T_cmd\u001b[39m=\u001b[39;49mT)\n\u001b[1;32m     <a href='vscode-notebook-cell:/home/mocap/manipulation/rooholla/FR3Py/examples/isaacsim_tutorial.ipynb#X40sZmlsZQ%3D%3D?line=30'>31</a>\u001b[0m     robot\u001b[39m.\u001b[39msendCommands(cmd)\n\u001b[1;32m     <a href='vscode-notebook-cell:/home/mocap/manipulation/rooholla/FR3Py/examples/isaacsim_tutorial.ipynb#X40sZmlsZQ%3D%3D?line=32'>33</a>\u001b[0m robot\u001b[39m.\u001b[39msendCommands(np\u001b[39m.\u001b[39mzeros(\u001b[39m9\u001b[39m))\n",
      "File \u001b[0;32m~/.pyenv/versions/3.9.16/lib/python3.9/site-packages/FR3Py/controllers/jacobianPseudoInv.py:40\u001b[0m, in \u001b[0;36mWaypointController.compute\u001b[0;34m(self, q, dq, T_cmd)\u001b[0m\n\u001b[1;32m     38\u001b[0m \u001b[39mdef\u001b[39;00m \u001b[39mcompute\u001b[39m(\u001b[39mself\u001b[39m, q, dq, T_cmd\u001b[39m=\u001b[39m\u001b[39mNone\u001b[39;00m):\n\u001b[1;32m     39\u001b[0m     \u001b[39m# Get the robot paramters for the given state\u001b[39;00m\n\u001b[0;32m---> 40\u001b[0m     info \u001b[39m=\u001b[39m \u001b[39mself\u001b[39;49m\u001b[39m.\u001b[39;49mrobot\u001b[39m.\u001b[39;49mgetInfo(q, dq)\n\u001b[1;32m     41\u001b[0m     \u001b[39mif\u001b[39;00m T_cmd \u001b[39mis\u001b[39;00m \u001b[39mnot\u001b[39;00m \u001b[39mNone\u001b[39;00m:\n\u001b[1;32m     42\u001b[0m         \u001b[39mself\u001b[39m\u001b[39m.\u001b[39mp_cmd \u001b[39m=\u001b[39m T_cmd[\u001b[39m0\u001b[39m:\u001b[39m3\u001b[39m, \u001b[39m-\u001b[39m\u001b[39m1\u001b[39m]\u001b[39m.\u001b[39mreshape(\u001b[39m3\u001b[39m, \u001b[39m1\u001b[39m)\n",
      "File \u001b[0;32m~/.pyenv/versions/3.9.16/lib/python3.9/site-packages/FR3Py/robot/model.py:151\u001b[0m, in \u001b[0;36mPinocchioModel.getInfo\u001b[0;34m(self, q, dq)\u001b[0m\n\u001b[1;32m    143\u001b[0m p_link6, R_link6, q_LINK6 \u001b[39m=\u001b[39m \u001b[39mself\u001b[39m\u001b[39m.\u001b[39mcompute_crude_location(\n\u001b[1;32m    144\u001b[0m     np\u001b[39m.\u001b[39meye(\u001b[39m3\u001b[39m), np\u001b[39m.\u001b[39marray(([\u001b[39m0.0\u001b[39m], [\u001b[39m0.0\u001b[39m], [\u001b[39m-\u001b[39m\u001b[39m0.03\u001b[39m])), \u001b[39mself\u001b[39m\u001b[39m.\u001b[39mFR3_LINK6_FRAME_ID\n\u001b[1;32m    145\u001b[0m )\n\u001b[1;32m    147\u001b[0m p_link7, R_link7, q_LINK7 \u001b[39m=\u001b[39m \u001b[39mself\u001b[39m\u001b[39m.\u001b[39mcompute_crude_location(\n\u001b[1;32m    148\u001b[0m     np\u001b[39m.\u001b[39meye(\u001b[39m3\u001b[39m), np\u001b[39m.\u001b[39marray(([\u001b[39m0.0\u001b[39m], [\u001b[39m0.0\u001b[39m], [\u001b[39m0.01\u001b[39m])), \u001b[39mself\u001b[39m\u001b[39m.\u001b[39mFR3_LINK7_FRAME_ID\n\u001b[1;32m    149\u001b[0m )\n\u001b[0;32m--> 151\u001b[0m p_hand, R_hand, q_HAND \u001b[39m=\u001b[39m \u001b[39mself\u001b[39;49m\u001b[39m.\u001b[39;49mcompute_crude_location(\n\u001b[1;32m    152\u001b[0m     np\u001b[39m.\u001b[39;49meye(\u001b[39m3\u001b[39;49m), np\u001b[39m.\u001b[39;49marray(([\u001b[39m0.0\u001b[39;49m], [\u001b[39m0.0\u001b[39;49m], [\u001b[39m0.06\u001b[39;49m])), \u001b[39mself\u001b[39;49m\u001b[39m.\u001b[39;49mFR3_HAND_FRAME_ID\n\u001b[1;32m    153\u001b[0m )\n\u001b[1;32m    154\u001b[0m \u001b[39m# Get dynamics\u001b[39;00m\n\u001b[1;32m    155\u001b[0m Minv \u001b[39m=\u001b[39m pin\u001b[39m.\u001b[39mcomputeMinverse(\u001b[39mself\u001b[39m\u001b[39m.\u001b[39mrobot\u001b[39m.\u001b[39mmodel, \u001b[39mself\u001b[39m\u001b[39m.\u001b[39mrobot\u001b[39m.\u001b[39mdata, q)\n",
      "File \u001b[0;32m~/.pyenv/versions/3.9.16/lib/python3.9/site-packages/FR3Py/robot/model.py:63\u001b[0m, in \u001b[0;36mPinocchioModel.compute_crude_location\u001b[0;34m(self, R_offset, p_offset, frame_id)\u001b[0m\n\u001b[1;32m     60\u001b[0m Rot \u001b[39m=\u001b[39m T_mat[:\u001b[39m3\u001b[39m, :\u001b[39m3\u001b[39m]\n\u001b[1;32m     62\u001b[0m \u001b[39m# quaternion\u001b[39;00m\n\u001b[0;32m---> 63\u001b[0m q \u001b[39m=\u001b[39m Rotation\u001b[39m.\u001b[39;49mfrom_matrix(Rot)\u001b[39m.\u001b[39mas_quat()\n\u001b[1;32m     65\u001b[0m \u001b[39mreturn\u001b[39;00m p, Rot, q\n",
      "\u001b[0;31mKeyboardInterrupt\u001b[0m: "
     ]
    }
   ],
   "source": [
    "import time\n",
    "import numpy as np\n",
    "from FR3Py.controllers.jacobianPseudoInv import WaypointController\n",
    "\n",
    "controller = WaypointController(kp=1.5)\n",
    "\n",
    "# Reset the robot and read its initial state\n",
    "robot.reset()\n",
    "state = robot.getStates()\n",
    "\n",
    "if state is not None:\n",
    "    print('starting the controller')\n",
    "    q, dq = state['q'], state['dq']\n",
    "    p0 = controller.robot.getInfo(q,dq)['P_EE']\n",
    "    R0 = controller.robot.getInfo(q,dq)['R_EE']\n",
    "    T0 = np.vstack([np.hstack([R0, p0.reshape(3,1)]), np.array([0,0,0,1])])\n",
    "    start_time = time.time()\n",
    "    while time.time()-start_time < 20:\n",
    "        time.sleep(0.01)\n",
    "        t = time.time() - start_time\n",
    "        x = 0.1 * np.sin(t)\n",
    "        T= T0 @ np.vstack([np.hstack([np.eye(3), np.array([0,0,x]).reshape(3,1)]), np.array([0,0,0,1])])\n",
    "        state = robot.getStates()\n",
    "        q, dq = state['q'], state['dq']\n",
    "        cmd = controller.compute(q, dq, T_cmd=T)\n",
    "        robot.sendCommands(cmd)\n",
    "\n",
    "    robot.sendCommands(np.zeros(9))\n",
    "    print('Demo ended.')\n",
    "else:\n",
    "    print('State is None. check the connection')"
   ]
  },
  {
   "cell_type": "code",
   "execution_count": 3,
   "metadata": {},
   "outputs": [],
   "source": [
    "robot.reset()"
   ]
  },
  {
   "cell_type": "code",
   "execution_count": null,
   "metadata": {},
   "outputs": [],
   "source": []
  }
 ],
 "metadata": {
  "kernelspec": {
   "display_name": "Python 3 (ipykernel)",
   "language": "python",
   "name": "python3"
  },
  "language_info": {
   "codemirror_mode": {
    "name": "ipython",
    "version": 3
   },
   "file_extension": ".py",
   "mimetype": "text/x-python",
   "name": "python",
   "nbconvert_exporter": "python",
   "pygments_lexer": "ipython3",
   "version": "3.9.16"
  }
 },
 "nbformat": 4,
 "nbformat_minor": 2
}
