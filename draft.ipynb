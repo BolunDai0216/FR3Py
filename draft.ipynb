{
 "cells": [
  {
   "cell_type": "code",
   "execution_count": null,
   "metadata": {},
   "outputs": [],
   "source": [
    "import sys\n",
    "sys.path.append('/usr/local/lib/python3.8/site-packages')"
   ]
  },
  {
   "cell_type": "code",
   "execution_count": null,
   "metadata": {},
   "outputs": [],
   "source": [
    "import select\n",
    "import threading\n",
    "import time\n",
    "from time import sleep\n",
    "import numpy as np\n",
    "import pinocchio as pin\n",
    "from FR3Py.lcm_msgs.fr3_states import fr3_state\n",
    "from FR3Py.lcm_msgs.fr3_commands import fr3_cmd\n",
    "import lcm\n",
    "\n",
    "class FR3Real:\n",
    "    def __init__(\n",
    "        self,\n",
    "        robot_name = 'franka',\n",
    "        interface_type = 'joint_velocity',\n",
    "    ):\n",
    "        \n",
    "        self.state = None\n",
    "        self.trigger_timestamp = 0\n",
    "        self.robot_name = robot_name\n",
    "        self.state_topic_name = f'{robot_name}_state'\n",
    "        self.command_topic_name = f'{robot_name}_command'\n",
    "        self.states_msg = fr3_state()\n",
    "        self.command_msg = fr3_cmd()\n",
    "        self.user_callback = None\n",
    "        # Threading Interface for handleing LCM\n",
    "        self.lc = lcm.LCM(\"udpm://239.255.76.67:7667?ttl=1\")\n",
    "        self.subscription = self.lc.subscribe(self.state_topic_name, self.update)\n",
    "        self.subscription.set_queue_capacity(1)\n",
    "        self.running = True\n",
    "        self.lcm_thread = threading.Thread(target=self.LCMThreadFunc)\n",
    "        self.lcm_thread.start()\n",
    "        sleep(0.2)\n",
    "        print(\"Interface Running...\")\n",
    "\n",
    "    def LCMThreadFunc(self):\n",
    "        while self.running:\n",
    "            rfds, wfds, efds = select.select([self.lc.fileno()], [], [], 0.5)\n",
    "            if rfds: # Handle only if there are data in the interface file\n",
    "                self.lc.handle()\n",
    "\n",
    "    def update(self, channel, data):\n",
    "        msg = fr3_state.decode(data)\n",
    "        self.trigger_timestamp = np.array(msg.timestamp) / 1000000\n",
    "        q = np.hstack([msg.q,np.zeros((2))])\n",
    "        dq = np.hstack([msg.dq,np.zeros((2))])\n",
    "        T = np.hstack([msg.T,np.zeros((2))])\n",
    "        self.joint_state = {\n",
    "            'q':q,\n",
    "            'dq':dq,\n",
    "            'T':T\n",
    "        }\n",
    "        # Call an arbitrary user callback \n",
    "        if self.user_callback is not None:\n",
    "            self.user_callback(self.joint_state)\n",
    "        \n",
    "    def readStates(self):\n",
    "        if time.time()-self.trigger_timestamp > 0.2:\n",
    "            self.state = None\n",
    "            return None\n",
    "        else:\n",
    "            return self.joint_state\n",
    "\n",
    "    def setCommand(self, cmd):\n",
    "        self.command_msg.timestamp = int(self.trigger_timestamp*1000000)\n",
    "        self.command_msg.cmd = cmd.tolist()\n",
    "        self.lc.publish(self.command_topic_name, self.command_msg.encode())\n",
    "        self.cmd_log = cmd\n",
    "\n",
    "    def close(self):\n",
    "        self.running = False\n",
    "        self.lcm_thread.join()\n",
    "        self.lc.unsubscribe(self.subscription)\n",
    "        del self.lc\n",
    "        print(\"Interface Closed.\")        "
   ]
  },
  {
   "cell_type": "code",
   "execution_count": null,
   "metadata": {},
   "outputs": [],
   "source": [
    "# from FR3Py.interfaces import FR3Real\n",
    "robot = FR3Real()"
   ]
  },
  {
   "cell_type": "code",
   "execution_count": null,
   "metadata": {},
   "outputs": [],
   "source": [
    "robot.readStates()"
   ]
  },
  {
   "cell_type": "code",
   "execution_count": null,
   "metadata": {},
   "outputs": [],
   "source": [
    "while True:\n",
    "    sleep(0.001)\n",
    "    robot.setCommand(np.zeros(7))"
   ]
  },
  {
   "cell_type": "code",
   "execution_count": null,
   "metadata": {},
   "outputs": [],
   "source": [
    "from FR3Py.controllers.utils import RobotModel"
   ]
  },
  {
   "cell_type": "code",
   "execution_count": null,
   "metadata": {},
   "outputs": [],
   "source": [
    "model = RobotModel()"
   ]
  },
  {
   "cell_type": "code",
   "execution_count": null,
   "metadata": {},
   "outputs": [],
   "source": [
    "import numpy as np\n",
    "model.getInfo(np.zeros(9), np.zeros(9)).keys()"
   ]
  },
  {
   "cell_type": "code",
   "execution_count": null,
   "metadata": {},
   "outputs": [],
   "source": [
    "from scipy.spatial.transform import Rotation\n",
    "import copy\n",
    "from FR3Py.solvers.qp_solver import QPSolver\n",
    "import numpy as np\n",
    "import numpy.linalg as LA\n",
    "from scipy.spatial.transform import Rotation as R\n",
    "\n",
    "\n",
    "def axis_angle_from_rot_mat(rot_mat):\n",
    "    rotation = R.from_matrix(rot_mat)\n",
    "    axis_angle = rotation.as_rotvec()\n",
    "    angle = LA.norm(axis_angle)\n",
    "    axis = axis_angle / angle\n",
    "    return axis, angle\n",
    "\n",
    "def get_R_end_from_start(x_ang, y_ang, z_ang, R_start):\n",
    "    \"\"\"Get target orientation based on initial orientation\"\"\"\n",
    "    _R_end = (\n",
    "        R.from_euler(\"x\", x_ang, degrees=True).as_matrix()\n",
    "        @ R.from_euler(\"y\", y_ang, degrees=True).as_matrix()\n",
    "        @ R.from_euler(\"z\", z_ang, degrees=True).as_matrix()\n",
    "        @ R_start\n",
    "    )\n",
    "    R_end = R.from_matrix(_R_end).as_matrix()\n",
    "    return R_end\n",
    "\n",
    "class WaypointController:\n",
    "    def __init__(self):\n",
    "        \n",
    "        # define solver\n",
    "        self.robot = RobotModel()\n",
    "        self.solver = QPSolver(9)\n",
    "        self.initialized = False\n",
    "\n",
    "    def compute(self, q, dq):\n",
    "        #Get the robot paramters for the given state\n",
    "        info = self.robot.getInfo(q, dq)\n",
    "\n",
    "        if not self.initialized:\n",
    "            # get initial rotation and position\n",
    "            self.R_start, _p_start = info[\"R_EE\"], info[\"P_EE\"]\n",
    "            self.p_start = _p_start[:, np.newaxis]\n",
    "\n",
    "            # get target rotation and position\n",
    "            self.p_end = np.array([[1.2], [0], [0.35]])\n",
    "            self.R_end = get_R_end_from_start(0, -90, 0, self.R_start)\n",
    "            self.movement_duration = 10.0\n",
    "\n",
    "            # compute R_error, ω_error, θ_error\n",
    "            self.R_error = self.R_end @ self.R_start.T\n",
    "            self.ω_error, self.θ_error = axis_angle_from_rot_mat(self.R_error)\n",
    "            self.initialized = True\n",
    "\n",
    "        # get end-effector position\n",
    "        p_current = info[\"P_EE\"][:, np.newaxis]\n",
    "\n",
    "        # get end-effector orientation\n",
    "        R_current = info[\"R_EE\"]\n",
    "\n",
    "        # get Jacobians from info\n",
    "        pinv_jac = info[\"pJ_HAND\"]\n",
    "        jacobian = info[\"J_HAND\"]\n",
    "\n",
    "        # compute joint-centering joint acceleration\n",
    "        dq_nominal = 0.5 * (self.robot.q_nominal - q[:, np.newaxis])\n",
    "\n",
    "        # compute error rotation matrix\n",
    "        R_err = self.R_end @ R_current.T\n",
    "\n",
    "        # compute orientation error in axis-angle form\n",
    "        rotvec_err = Rotation.from_matrix(R_err).as_rotvec()\n",
    "\n",
    "        # compute EE position error\n",
    "        p_error = np.zeros((6, 1))\n",
    "        p_error[:3] = self.p_end - p_current\n",
    "        p_error[3:] = rotvec_err[:, np.newaxis]\n",
    "\n",
    "        # compute EE velocity target\n",
    "        dp_target = np.zeros((6, 1))\n",
    "        params = {\n",
    "            \"Jacobian\": jacobian,\n",
    "            \"p_error\": p_error,\n",
    "            \"p_current\": p_current,\n",
    "            \"dp_target\": dp_target,\n",
    "            \"Kp\": 0.1 * np.eye(6),\n",
    "            \"dq_nominal\": dq_nominal,\n",
    "            \"nullspace_proj\": np.eye(9) - pinv_jac @ jacobian,\n",
    "        }\n",
    "\n",
    "        # solver for target joint velocity\n",
    "        self.solver.solve(params)\n",
    "        dq_target = self.solver.qp.results.x\n",
    "        return dq_target"
   ]
  },
  {
   "cell_type": "code",
   "execution_count": 1,
   "metadata": {},
   "outputs": [
    {
     "name": "stderr",
     "output_type": "stream",
     "text": [
      "pybullet build time: May 20 2022 19:44:17\n"
     ]
    },
    {
     "name": "stdout",
     "output_type": "stream",
     "text": [
      "interface control mode is: velocity\n",
      "startThreads creating 1 threads.\n",
      "starting thread 0\n",
      "started thread 0 \n",
      "argc=2\n",
      "argv[0] = --unused\n",
      "argv[1] = --start_demo_name=Physics Server\n",
      "ExampleBrowserThreadFunc started\n",
      "X11 functions dynamically loaded using dlopen/dlsym OK!\n",
      "X11 functions dynamically loaded using dlopen/dlsym OK!\n",
      "Creating context\n",
      "Created GL 3.3 context\n",
      "Direct GLX rendering context obtained\n",
      "Making context current\n",
      "GL_VENDOR=Intel\n",
      "GL_RENDERER=Mesa Intel(R) Graphics (RKL GT1)\n",
      "GL_VERSION=4.6 (Core Profile) Mesa 21.2.6\n",
      "GL_SHADING_LANGUAGE_VERSION=4.60\n",
      "pthread_getconcurrency()=0\n",
      "Version = 4.6 (Core Profile) Mesa 21.2.6\n",
      "Vendor = Intel\n",
      "Renderer = Mesa Intel(R) Graphics (RKL GT1)\n",
      "b3Printf: Selected demo: Physics Server\n",
      "startThreads creating 1 threads.\n",
      "starting thread 0\n",
      "started thread 0 \n",
      "MotionThreadFunc thread started\n",
      "ven = Intel\n",
      "Workaround for some crash in the Intel OpenGL driver on Linux/Ubuntu\n",
      "ven = Intel\n",
      "Workaround for some crash in the Intel OpenGL driver on Linux/Ubuntu\n"
     ]
    },
    {
     "ename": "KeyboardInterrupt",
     "evalue": "",
     "output_type": "error",
     "traceback": [
      "\u001b[0;31m---------------------------------------------------------------------------\u001b[0m",
      "\u001b[0;31mKeyboardInterrupt\u001b[0m                         Traceback (most recent call last)",
      "Cell \u001b[0;32mIn[1], line 12\u001b[0m\n\u001b[1;32m     10\u001b[0m q, dq \u001b[39m=\u001b[39m env\u001b[39m.\u001b[39mget_state()\n\u001b[1;32m     11\u001b[0m dq_cmd \u001b[39m=\u001b[39m controller\u001b[39m.\u001b[39mcompute(q, dq)\n\u001b[0;32m---> 12\u001b[0m env\u001b[39m.\u001b[39;49mstep(dq_cmd)\n\u001b[1;32m     13\u001b[0m time\u001b[39m.\u001b[39msleep(\u001b[39m0.001\u001b[39m)\n",
      "File \u001b[0;32m~/manipulation/FR3Py/FR3Py/envs/pybullet.py:131\u001b[0m, in \u001b[0;36mFR3Sim.step\u001b[0;34m(self, action)\u001b[0m\n\u001b[1;32m    130\u001b[0m \u001b[39mdef\u001b[39;00m \u001b[39mstep\u001b[39m(\u001b[39mself\u001b[39m, action):\n\u001b[0;32m--> 131\u001b[0m     \u001b[39mself\u001b[39;49m\u001b[39m.\u001b[39;49msend_joint_command(action)\n\u001b[1;32m    132\u001b[0m     p\u001b[39m.\u001b[39mstepSimulation()\n\u001b[1;32m    133\u001b[0m     q, dq \u001b[39m=\u001b[39m \u001b[39mself\u001b[39m\u001b[39m.\u001b[39mget_state()\n",
      "File \u001b[0;32m~/manipulation/FR3Py/FR3Py/envs/pybullet.py:165\u001b[0m, in \u001b[0;36mFR3Sim.send_joint_command\u001b[0;34m(self, cmd)\u001b[0m\n\u001b[1;32m    162\u001b[0m \u001b[39melse\u001b[39;00m:\n\u001b[1;32m    163\u001b[0m     \u001b[39m# Run a PD with gravity compensation\u001b[39;00m\n\u001b[1;32m    164\u001b[0m     q, dq \u001b[39m=\u001b[39m \u001b[39mself\u001b[39m\u001b[39m.\u001b[39mget_state()\n\u001b[0;32m--> 165\u001b[0m     info \u001b[39m=\u001b[39m \u001b[39mself\u001b[39;49m\u001b[39m.\u001b[39;49mrobot\u001b[39m.\u001b[39;49mgetInfo(q, dq)\n\u001b[1;32m    166\u001b[0m     G \u001b[39m=\u001b[39m info[\u001b[39m\"\u001b[39m\u001b[39mG\u001b[39m\u001b[39m\"\u001b[39m][:, np\u001b[39m.\u001b[39mnewaxis]\n\u001b[1;32m    167\u001b[0m     \u001b[39m# compute torque command\u001b[39;00m\n",
      "File \u001b[0;32m~/manipulation/FR3Py/FR3Py/controllers/utils.py:142\u001b[0m, in \u001b[0;36mRobotModel.getInfo\u001b[0;34m(self, q, dq)\u001b[0m\n\u001b[1;32m    134\u001b[0m p_link5_1, R_link5_1, q_LINK5_1 \u001b[39m=\u001b[39m \u001b[39mself\u001b[39m\u001b[39m.\u001b[39mcompute_crude_location(\n\u001b[1;32m    135\u001b[0m     np\u001b[39m.\u001b[39meye(\u001b[39m3\u001b[39m), np\u001b[39m.\u001b[39marray(([\u001b[39m0.0\u001b[39m], [\u001b[39m0.0\u001b[39m], [\u001b[39m-\u001b[39m\u001b[39m0.26\u001b[39m])), \u001b[39mself\u001b[39m\u001b[39m.\u001b[39mFR3_LINK5_FRAME_ID\n\u001b[1;32m    136\u001b[0m )\n\u001b[1;32m    138\u001b[0m p_link5_2, R_link5_2, q_LINK5_2 \u001b[39m=\u001b[39m \u001b[39mself\u001b[39m\u001b[39m.\u001b[39mcompute_crude_location(\n\u001b[1;32m    139\u001b[0m     np\u001b[39m.\u001b[39meye(\u001b[39m3\u001b[39m), np\u001b[39m.\u001b[39marray(([\u001b[39m0.0\u001b[39m], [\u001b[39m0.08\u001b[39m], [\u001b[39m-\u001b[39m\u001b[39m0.13\u001b[39m])), \u001b[39mself\u001b[39m\u001b[39m.\u001b[39mFR3_LINK5_FRAME_ID\n\u001b[1;32m    140\u001b[0m )\n\u001b[0;32m--> 142\u001b[0m p_link6, R_link6, q_LINK6 \u001b[39m=\u001b[39m \u001b[39mself\u001b[39;49m\u001b[39m.\u001b[39;49mcompute_crude_location(\n\u001b[1;32m    143\u001b[0m     np\u001b[39m.\u001b[39;49meye(\u001b[39m3\u001b[39;49m), np\u001b[39m.\u001b[39;49marray(([\u001b[39m0.0\u001b[39;49m], [\u001b[39m0.0\u001b[39;49m], [\u001b[39m-\u001b[39;49m\u001b[39m0.03\u001b[39;49m])), \u001b[39mself\u001b[39;49m\u001b[39m.\u001b[39;49mFR3_LINK6_FRAME_ID\n\u001b[1;32m    144\u001b[0m )\n\u001b[1;32m    146\u001b[0m p_link7, R_link7, q_LINK7 \u001b[39m=\u001b[39m \u001b[39mself\u001b[39m\u001b[39m.\u001b[39mcompute_crude_location(\n\u001b[1;32m    147\u001b[0m     np\u001b[39m.\u001b[39meye(\u001b[39m3\u001b[39m), np\u001b[39m.\u001b[39marray(([\u001b[39m0.0\u001b[39m], [\u001b[39m0.0\u001b[39m], [\u001b[39m0.01\u001b[39m])), \u001b[39mself\u001b[39m\u001b[39m.\u001b[39mFR3_LINK7_FRAME_ID\n\u001b[1;32m    148\u001b[0m )\n\u001b[1;32m    150\u001b[0m p_hand, R_hand, q_HAND \u001b[39m=\u001b[39m \u001b[39mself\u001b[39m\u001b[39m.\u001b[39mcompute_crude_location(\n\u001b[1;32m    151\u001b[0m     np\u001b[39m.\u001b[39meye(\u001b[39m3\u001b[39m), np\u001b[39m.\u001b[39marray(([\u001b[39m0.0\u001b[39m], [\u001b[39m0.0\u001b[39m], [\u001b[39m0.06\u001b[39m])), \u001b[39mself\u001b[39m\u001b[39m.\u001b[39mFR3_HAND_FRAME_ID\n\u001b[1;32m    152\u001b[0m )\n",
      "File \u001b[0;32m~/manipulation/FR3Py/FR3Py/controllers/utils.py:62\u001b[0m, in \u001b[0;36mRobotModel.compute_crude_location\u001b[0;34m(self, R_offset, p_offset, frame_id)\u001b[0m\n\u001b[1;32m     59\u001b[0m Rot \u001b[39m=\u001b[39m T_mat[:\u001b[39m3\u001b[39m, :\u001b[39m3\u001b[39m]\n\u001b[1;32m     61\u001b[0m \u001b[39m# quaternion\u001b[39;00m\n\u001b[0;32m---> 62\u001b[0m q \u001b[39m=\u001b[39m Rotation\u001b[39m.\u001b[39;49mfrom_matrix(Rot)\u001b[39m.\u001b[39;49mas_quat()\n\u001b[1;32m     64\u001b[0m \u001b[39mreturn\u001b[39;00m p, Rot, q\n",
      "\u001b[0;31mKeyboardInterrupt\u001b[0m: "
     ]
    },
    {
     "ename": "",
     "evalue": "",
     "output_type": "error",
     "traceback": [
      "\u001b[1;31mThe Kernel crashed while executing code in the the current cell or a previous cell. Please review the code in the cell(s) to identify a possible cause of the failure. Click <a href='https://aka.ms/vscodeJupyterKernelCrash'>here</a> for more info. View Jupyter <a href='command:jupyter.viewOutput'>log</a> for further details."
     ]
    }
   ],
   "source": [
    "import time\n",
    "import numpy as np\n",
    "from FR3Py.controllers.waypoint_controller import WaypointController\n",
    "from FR3Py.envs.pybullet import FR3Sim\n",
    "\n",
    "env = FR3Sim(render_mode='human', mode='velocity')\n",
    "env.reset()\n",
    "controller = WaypointController()\n",
    "while True:\n",
    "    q, dq = env.get_state()\n",
    "    dq_cmd = controller.compute(q, dq)\n",
    "    env.step(dq_cmd)\n",
    "    time.sleep(0.001)"
   ]
  },
  {
   "cell_type": "markdown",
   "metadata": {},
   "source": []
  },
  {
   "cell_type": "code",
   "execution_count": null,
   "metadata": {},
   "outputs": [],
   "source": []
  }
 ],
 "metadata": {
  "kernelspec": {
   "display_name": "Python 3",
   "language": "python",
   "name": "python3"
  },
  "language_info": {
   "codemirror_mode": {
    "name": "ipython",
    "version": 3
   },
   "file_extension": ".py",
   "mimetype": "text/x-python",
   "name": "python",
   "nbconvert_exporter": "python",
   "pygments_lexer": "ipython3",
   "version": "3.8.10"
  },
  "orig_nbformat": 4,
  "vscode": {
   "interpreter": {
    "hash": "916dbcbb3f70747c44a77c7bcd40155683ae19c65e1c03b4aa3499c5328201f1"
   }
  }
 },
 "nbformat": 4,
 "nbformat_minor": 2
}
