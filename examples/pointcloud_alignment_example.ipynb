{
 "cells": [
  {
   "cell_type": "code",
   "execution_count": null,
   "metadata": {},
   "outputs": [],
   "source": [
    "import cv2\n",
    "import numpy as np\n",
    "import open3d as o3d\n",
    "import pickle\n",
    "import time\n",
    "\n",
    "from FR3Py.vision.utils import depth2PointCloud"
   ]
  },
  {
   "cell_type": "code",
   "execution_count": null,
   "metadata": {},
   "outputs": [],
   "source": [
    "with open('dataset/sep26/camera_params.pkl', 'rb') as f:\n",
    "    params = pickle.load(f)\n",
    "\n",
    "int_params = params['int_params']\n",
    "ext_params = params['ext_params']\n",
    "fx, fy, cx, cy = int_params['Depth']['fx'], int_params['Depth']['fy'], int_params['Depth']['cx'], int_params['Depth']['cy']"
   ]
  },
  {
   "cell_type": "code",
   "execution_count": null,
   "metadata": {},
   "outputs": [],
   "source": [
    "\n",
    "depth1 = cv2.imread('dataset/sep26/seq1/depth/1695784268680308480.png', -1)\n",
    "depth2 = cv2.imread('dataset/sep26/seq1/depth/1695784281219218432.png', -1)\n",
    "\n",
    "pc1 = depth2PointCloud(depth1,fx, fy, cx, cy).copy()\n",
    "pc2 = depth2PointCloud(depth2,fx, fy, cx, cy).copy()"
   ]
  },
  {
   "cell_type": "code",
   "execution_count": null,
   "metadata": {},
   "outputs": [],
   "source": [
    "pc1 = np.hstack([pc1, np.ones((pc1.shape[0], 1))])\n",
    "pc2 = np.hstack([pc2, np.ones((pc2.shape[0], 1))])\n",
    "\n",
    "base_T1_ef = np.loadtxt('dataset/sep26/seq1/pose/1695784268680308480.txt')\n",
    "base_T2_ef = np.loadtxt('dataset/sep26/seq1/pose/1695784281219218432.txt')\n",
    "\n",
    "rgb_T1_tag = np.loadtxt('dataset/sep26/seq1/apriltag_pose/1695784268680308480.txt')\n",
    "rgb_T2_tag = np.loadtxt('dataset/sep26/seq1/apriltag_pose/1695784281219218432.txt')\n",
    "\n",
    "tag_T1_rgb = np.linalg.inv(rgb_T1_tag)\n",
    "tag_T2_rgb = np.linalg.inv(rgb_T2_tag)\n",
    "\n",
    "depth_T_rgb = ext_params['ir1_T_rgb']\n",
    "rgb_T_depth = np.linalg.inv(depth_T_rgb)"
   ]
  },
  {
   "cell_type": "code",
   "execution_count": null,
   "metadata": {},
   "outputs": [],
   "source": [
    "tag_pc1 = ((tag_T1_rgb@rgb_T_depth@pc1.T).T)[:,0:3]\n",
    "tag_pc2 = ((tag_T2_rgb@rgb_T_depth@pc2.T).T)[:,0:3]"
   ]
  },
  {
   "cell_type": "code",
   "execution_count": null,
   "metadata": {},
   "outputs": [],
   "source": [
    "pcd1 = o3d.geometry.PointCloud()\n",
    "pcd1.points = o3d.utility.Vector3dVector(pc1[:,0:3])\n",
    "tag_pcd1 = o3d.geometry.PointCloud()\n",
    "tag_pcd1.points = o3d.utility.Vector3dVector(tag_pc1[:,0:3])\n",
    "\n",
    "pcd2 = o3d.geometry.PointCloud()\n",
    "pcd2.points = o3d.utility.Vector3dVector(pc2[:,0:3])\n",
    "tag_pcd2 = o3d.geometry.PointCloud()\n",
    "tag_pcd2.points = o3d.utility.Vector3dVector(tag_pc2[:,0:3])"
   ]
  },
  {
   "cell_type": "code",
   "execution_count": null,
   "metadata": {},
   "outputs": [],
   "source": [
    "o3d.visualization.draw_geometries([pcd1,pcd2])"
   ]
  },
  {
   "cell_type": "code",
   "execution_count": null,
   "metadata": {},
   "outputs": [],
   "source": [
    "o3d.visualization.draw_geometries([tag_pcd1, tag_pcd2])"
   ]
  },
  {
   "cell_type": "markdown",
   "metadata": {},
   "source": [
    "# Camera Feed"
   ]
  },
  {
   "cell_type": "code",
   "execution_count": null,
   "metadata": {},
   "outputs": [],
   "source": [
    "from FR3Py.vision.cameras import RealSenseCamera\n",
    "camera = RealSenseCamera(VGA=False, enable_imu=False, enable_ir=True, emitter_enabled=True, align_to_color=False)"
   ]
  },
  {
   "cell_type": "code",
   "execution_count": null,
   "metadata": {},
   "outputs": [],
   "source": [
    "K = camera.getIntrinsics()['Depth']\n",
    "fx,fy,cx,cy = K['fx'], K['fy'], K['cx'], K['cy']"
   ]
  },
  {
   "cell_type": "markdown",
   "metadata": {},
   "source": [
    "## Snapshot"
   ]
  },
  {
   "cell_type": "code",
   "execution_count": null,
   "metadata": {},
   "outputs": [],
   "source": [
    "camera.grab_frames()\n",
    "depth = camera.depth_frame\n",
    "pc = depth2PointCloud(depth,fx, fy, cx, cy)\n",
    "pcd = o3d.geometry.PointCloud()\n",
    "pcd.points = o3d.utility.Vector3dVector(pc)\n",
    "o3d.visualization.draw_geometries([pcd])"
   ]
  },
  {
   "cell_type": "markdown",
   "metadata": {},
   "source": [
    "## Live"
   ]
  },
  {
   "cell_type": "code",
   "execution_count": null,
   "metadata": {},
   "outputs": [],
   "source": [
    "camera.grab_frames()\n",
    "depth = camera.depth_frame\n",
    "pc = depth2PointCloud(depth,fx, fy, cx, cy)\n",
    "pcd = o3d.geometry.PointCloud()\n",
    "pcd.points = o3d.utility.Vector3dVector(pc)\n",
    "vis = o3d.visualization.Visualizer()\n",
    "vis.create_window()\n",
    "vis.add_geometry(pcd)\n",
    "\n",
    "while True:\n",
    "    time.sleep(0.01)\n",
    "    camera.grab_frames()\n",
    "    depth = camera.depth_frame\n",
    "    pc = depth2PointCloud(depth,fx, fy, cx, cy)\n",
    "    pcd.points = o3d.utility.Vector3dVector(pc)\n",
    "    vis.update_geometry(pcd)\n",
    "    vis.poll_events()\n",
    "    vis.update_renderer()"
   ]
  }
 ],
 "metadata": {
  "kernelspec": {
   "display_name": "Python 3 (ipykernel)",
   "language": "python",
   "name": "python3"
  },
  "language_info": {
   "codemirror_mode": {
    "name": "ipython",
    "version": 3
   },
   "file_extension": ".py",
   "mimetype": "text/x-python",
   "name": "python",
   "nbconvert_exporter": "python",
   "pygments_lexer": "ipython3",
   "version": "3.8.16"
  }
 },
 "nbformat": 4,
 "nbformat_minor": 2
}
