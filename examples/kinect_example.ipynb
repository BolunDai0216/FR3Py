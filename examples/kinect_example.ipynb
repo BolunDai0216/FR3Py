{
 "cells": [
  {
   "cell_type": "markdown",
   "metadata": {},
   "source": [
    "## Prerequisites\n",
    "\n",
    "Before running the following cells go to `/home/mocap/locomotion/state_estimation/ros1_ws` run\n",
    "\n",
    "```bash\n",
    "source devel/setup.zsh\n",
    "roslaunch kinect2_bridge kinect2_bridge.launch\n",
    "```\n",
    "\n",
    "to make the `kinect2` node start publishing data"
   ]
  },
  {
   "cell_type": "code",
   "execution_count": 1,
   "metadata": {},
   "outputs": [
    {
     "name": "stdout",
     "output_type": "stream",
     "text": [
      "Jupyter environment detected. Enabling Open3D WebVisualizer.\n",
      "[Open3D INFO] WebRTC GUI backend enabled.\n",
      "[Open3D INFO] WebRTCWindowSystem: HTTP handshake server disabled.\n"
     ]
    }
   ],
   "source": [
    "import sys\n",
    "sys.path.append('/opt/ros/noetic/lib/python3/dist-packages')\n",
    "\n",
    "import time\n",
    "\n",
    "import open3d as o3d\n",
    "\n",
    "from FR3Py.vision.kinect import Kinect"
   ]
  },
  {
   "cell_type": "code",
   "execution_count": 3,
   "metadata": {},
   "outputs": [],
   "source": [
    "# if shows a timeout error try running it again\n",
    "kinect = Kinect()"
   ]
  },
  {
   "cell_type": "code",
   "execution_count": 4,
   "metadata": {},
   "outputs": [],
   "source": [
    "pcd_o3d = o3d.geometry.PointCloud()\n",
    "pcd_o3d.points = o3d.utility.Vector3dVector(kinect.points.T)\n",
    "voxel_down_pcd = pcd_o3d.voxel_down_sample(voxel_size=0.01)\n",
    "pcd, _ = voxel_down_pcd.remove_statistical_outlier(20, 1.0)\n",
    "\n",
    "# use the + & - keys to change the size of the points\n",
    "o3d.visualization.draw_geometries([pcd])"
   ]
  },
  {
   "cell_type": "code",
   "execution_count": 5,
   "metadata": {},
   "outputs": [],
   "source": [
    "# don't forget to run this!\n",
    "kinect.close()"
   ]
  }
 ],
 "metadata": {
  "kernelspec": {
   "display_name": "Python 3",
   "language": "python",
   "name": "python3"
  },
  "language_info": {
   "codemirror_mode": {
    "name": "ipython",
    "version": 3
   },
   "file_extension": ".py",
   "mimetype": "text/x-python",
   "name": "python",
   "nbconvert_exporter": "python",
   "pygments_lexer": "ipython3",
   "version": "3.8.15"
  }
 },
 "nbformat": 4,
 "nbformat_minor": 2
}
