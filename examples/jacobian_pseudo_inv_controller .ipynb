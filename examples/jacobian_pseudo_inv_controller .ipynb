{
 "cells": [
  {
   "attachments": {},
   "cell_type": "markdown",
   "metadata": {},
   "source": [
    "# Jacobian Pseudo Inverse Controller\n",
    "ToDo: Add theory of operation"
   ]
  },
  {
   "attachments": {},
   "cell_type": "markdown",
   "metadata": {},
   "source": [
    "## Run In Simulation"
   ]
  },
  {
   "cell_type": "code",
   "execution_count": 1,
   "metadata": {},
   "outputs": [
    {
     "ename": "ModuleNotFoundError",
     "evalue": "No module named 'FR3Py'",
     "output_type": "error",
     "traceback": [
      "\u001b[0;31m---------------------------------------------------------------------------\u001b[0m",
      "\u001b[0;31mModuleNotFoundError\u001b[0m                       Traceback (most recent call last)",
      "Input \u001b[0;32mIn [1]\u001b[0m, in \u001b[0;36m<cell line: 3>\u001b[0;34m()\u001b[0m\n\u001b[1;32m      1\u001b[0m \u001b[38;5;28;01mimport\u001b[39;00m \u001b[38;5;21;01mtime\u001b[39;00m\n\u001b[1;32m      2\u001b[0m \u001b[38;5;28;01mimport\u001b[39;00m \u001b[38;5;21;01mnumpy\u001b[39;00m \u001b[38;5;28;01mas\u001b[39;00m \u001b[38;5;21;01mnp\u001b[39;00m\n\u001b[0;32m----> 3\u001b[0m \u001b[38;5;28;01mfrom\u001b[39;00m \u001b[38;5;21;01mFR3Py\u001b[39;00m\u001b[38;5;21;01m.\u001b[39;00m\u001b[38;5;21;01mcontrollers\u001b[39;00m\u001b[38;5;21;01m.\u001b[39;00m\u001b[38;5;21;01mwaypoint_controller\u001b[39;00m \u001b[38;5;28;01mimport\u001b[39;00m WaypointController\n\u001b[1;32m      4\u001b[0m \u001b[38;5;28;01mfrom\u001b[39;00m \u001b[38;5;21;01mFR3Py\u001b[39;00m\u001b[38;5;21;01m.\u001b[39;00m\u001b[38;5;21;01menvs\u001b[39;00m\u001b[38;5;21;01m.\u001b[39;00m\u001b[38;5;21;01mpybullet\u001b[39;00m \u001b[38;5;28;01mimport\u001b[39;00m FR3Sim\n\u001b[1;32m      6\u001b[0m robot \u001b[38;5;241m=\u001b[39m FR3Sim(render_mode\u001b[38;5;241m=\u001b[39m\u001b[38;5;124m'\u001b[39m\u001b[38;5;124mhuman\u001b[39m\u001b[38;5;124m'\u001b[39m, mode\u001b[38;5;241m=\u001b[39m\u001b[38;5;124m'\u001b[39m\u001b[38;5;124mvelocity\u001b[39m\u001b[38;5;124m'\u001b[39m, Ts\u001b[38;5;241m=\u001b[39m\u001b[38;5;241m1\u001b[39m\u001b[38;5;241m/\u001b[39m\u001b[38;5;241m1000\u001b[39m)\n",
      "\u001b[0;31mModuleNotFoundError\u001b[0m: No module named 'FR3Py'"
     ]
    }
   ],
   "source": [
    "import time\n",
    "import numpy as np\n",
    "from FR3Py.controllers.waypoint_controller import WaypointController\n",
    "from FR3Py.envs.pybullet import FR3Sim\n",
    "\n",
    "robot = FR3Sim(render_mode='human', mode='velocity', Ts=1/1000)\n",
    "robot.reset()\n",
    "controller = WaypointController(kp=2)\n",
    "while True:\n",
    "    q, dq = robot.get_state()\n",
    "    dq_cmd = controller.compute(q, dq)\n",
    "    robot.step(dq_cmd)\n",
    "    time.sleep(1/1000)"
   ]
  },
  {
   "attachments": {},
   "cell_type": "markdown",
   "metadata": {},
   "source": [
    "## Run With Real Robot"
   ]
  },
  {
   "cell_type": "code",
   "execution_count": 1,
   "metadata": {},
   "outputs": [
    {
     "name": "stdout",
     "output_type": "stream",
     "text": [
      "Interface Running...\n"
     ]
    }
   ],
   "source": [
    "import sys \n",
    "sys.path.append(\"/usr/local/lib/python3.8/site-packages\")\n",
    "from FR3Py.interfaces import FR3Real\n",
    "\n",
    "robot = FR3Real()"
   ]
  },
  {
   "cell_type": "code",
   "execution_count": 28,
   "metadata": {},
   "outputs": [
    {
     "name": "stdout",
     "output_type": "stream",
     "text": [
      "[-9.01207363e-05 -7.85094045e-01  1.43095362e-04 -2.35606960e+00\n",
      " -3.94108067e-04  1.57092448e+00  7.85301659e-01  0.00000000e+00\n",
      "  0.00000000e+00] [-3.31773997e-04  1.09744403e-03 -9.75158057e-04 -3.04230352e-04\n",
      "  3.26794884e-04 -1.27994316e-03 -9.72842622e-05  0.00000000e+00\n",
      "  0.00000000e+00]\n"
     ]
    }
   ],
   "source": [
    "state = robot.get_state()\n",
    "q, dq = state['q'], state['dq']\n",
    "\n",
    "print(q, dq)"
   ]
  },
  {
   "cell_type": "code",
   "execution_count": 29,
   "metadata": {},
   "outputs": [
    {
     "ename": "KeyboardInterrupt",
     "evalue": "",
     "output_type": "error",
     "traceback": [
      "\u001b[0;31m---------------------------------------------------------------------------\u001b[0m",
      "\u001b[0;31mKeyboardInterrupt\u001b[0m                         Traceback (most recent call last)",
      "\u001b[1;32m/home/bolun/Documents/FR3Py/examples/jacobian_pseudo_inv_controller .ipynb Cell 7\u001b[0m in \u001b[0;36m<cell line: 15>\u001b[0;34m()\u001b[0m\n\u001b[1;32m     <a href='vscode-notebook-cell:/home/bolun/Documents/FR3Py/examples/jacobian_pseudo_inv_controller%20.ipynb#W6sZmlsZQ%3D%3D?line=12'>13</a>\u001b[0m start_time \u001b[39m=\u001b[39m time\u001b[39m.\u001b[39mtime()\n\u001b[1;32m     <a href='vscode-notebook-cell:/home/bolun/Documents/FR3Py/examples/jacobian_pseudo_inv_controller%20.ipynb#W6sZmlsZQ%3D%3D?line=13'>14</a>\u001b[0m \u001b[39mwhile\u001b[39;00m \u001b[39mTrue\u001b[39;00m:\n\u001b[0;32m---> <a href='vscode-notebook-cell:/home/bolun/Documents/FR3Py/examples/jacobian_pseudo_inv_controller%20.ipynb#W6sZmlsZQ%3D%3D?line=14'>15</a>\u001b[0m     time\u001b[39m.\u001b[39;49msleep(\u001b[39m0.01\u001b[39;49m)\n\u001b[1;32m     <a href='vscode-notebook-cell:/home/bolun/Documents/FR3Py/examples/jacobian_pseudo_inv_controller%20.ipynb#W6sZmlsZQ%3D%3D?line=15'>16</a>\u001b[0m     t \u001b[39m=\u001b[39m time\u001b[39m.\u001b[39mtime() \u001b[39m-\u001b[39m start_time\n\u001b[1;32m     <a href='vscode-notebook-cell:/home/bolun/Documents/FR3Py/examples/jacobian_pseudo_inv_controller%20.ipynb#W6sZmlsZQ%3D%3D?line=16'>17</a>\u001b[0m     x \u001b[39m=\u001b[39m \u001b[39m0.1\u001b[39m \u001b[39m*\u001b[39m np\u001b[39m.\u001b[39msin(t)\n",
      "\u001b[0;31mKeyboardInterrupt\u001b[0m: "
     ]
    }
   ],
   "source": [
    "import time\n",
    "import numpy as np\n",
    "from FR3Py.controllers.waypoint_controller import WaypointController\n",
    "controller = WaypointController(kp=1.5)\n",
    "# Read the initila pose of the robot\n",
    "time.sleep(1)\n",
    "state = robot.get_state()\n",
    "\n",
    "q, dq = state['q'], state['dq']\n",
    "p0 = controller.robot.getInfo(q,dq)['P_EE']\n",
    "R0 = controller.robot.getInfo(q,dq)['R_EE']\n",
    "T0 = np.vstack([np.hstack([R0, p0.reshape(3,1)]), np.array([0,0,0,1])])\n",
    "start_time = time.time()\n",
    "while True:\n",
    "    time.sleep(0.01)\n",
    "    t = time.time() - start_time\n",
    "    x = 0.1 * np.sin(t)\n",
    "    T= T0 @ np.vstack([np.hstack([np.eye(3), np.array([0,0,x]).reshape(3,1)]), np.array([0,0,0,1])])\n",
    "    state = robot.get_state()\n",
    "    q, dq = state['q'], state['dq']\n",
    "    cmd = controller.compute(q, dq, T_cmd=T)\n",
    "    robot.send_joint_command(cmd[0:7])"
   ]
  },
  {
   "cell_type": "code",
   "execution_count": null,
   "metadata": {},
   "outputs": [],
   "source": []
  },
  {
   "attachments": {},
   "cell_type": "markdown",
   "metadata": {},
   "source": [
    "# TF Pose Capture Node"
   ]
  },
  {
   "attachments": {},
   "cell_type": "markdown",
   "metadata": {},
   "source": [
    "Run the following cell to repeatedly read the pose of the wall published as a TF message and set it to a global valirable pose:"
   ]
  },
  {
   "cell_type": "code",
   "execution_count": 14,
   "metadata": {},
   "outputs": [],
   "source": [
    "import rospy\n",
    "import tf\n",
    "import time\n",
    "import threading\n",
    "global pose\n",
    "from scipy.spatial.transform import Rotation\n",
    "import numpy as np\n",
    "import pickle\n",
    "from copy import deepcopy\n",
    "\n",
    "rospy.init_node(\"tf_listener_node\")"
   ]
  },
  {
   "cell_type": "code",
   "execution_count": 15,
   "metadata": {},
   "outputs": [],
   "source": [
    "def tf_listener_thread():\n",
    "\n",
    "    def get_T(p, R):\n",
    "        T = np.eye(4)\n",
    "        T[:3, :3] = R\n",
    "        T[:3, 3] = p\n",
    "\n",
    "        return T\n",
    "\n",
    "    global board_pos\n",
    "    global board_ori\n",
    "\n",
    "    camera_to_base_transform = np.load(\"/home/bolun/camera_to_grey_base_transform.npy\")\n",
    "\n",
    "    listener = tf.TransformListener()\n",
    "\n",
    "    # the frame where the data originated\n",
    "    target_frame = \"/camera_color_optical_frame\"\n",
    "\n",
    "    # the frame where the data should be transformed\n",
    "    source_frame = \"/wall\"\n",
    "\n",
    "    listener.waitForTransform(target_frame, source_frame, rospy.Time(), rospy.Duration(4.0))\n",
    "\n",
    "    # Main loop to continuously update the pose\n",
    "    while not rospy.is_shutdown():\n",
    "        try:\n",
    "            (trans, quat) = listener.lookupTransform(target_frame, source_frame, rospy.Time(0))\n",
    "            # print(trans, quat)\n",
    "            \n",
    "            pos = np.array(trans)\n",
    "            Rot = Rotation.from_quat(quat).as_matrix()\n",
    "\n",
    "            T = camera_to_base_transform @ get_T(pos, Rot)\n",
    "            board_pos = T[:3, 3]\n",
    "            board_rot = T[:3, :3]\n",
    "            board_ori = Rotation.from_matrix(board_rot).as_quat()\n",
    "\n",
    "            rospy.sleep(0.001)  # Adjust the sleep duration as needed\n",
    "        except (tf.LookupException, tf.ConnectivityException, tf.ExtrapolationException):\n",
    "            rospy.logwarn(\"Error occurred while retrieving TF transform.\") \n",
    "\n",
    "# Initialize the global pose variable\n",
    "board_pos = None\n",
    "board_ori = None\n",
    "\n",
    "# Create and start the thread\n",
    "tf_thread = threading.Thread(target=tf_listener_thread)\n",
    "tf_thread.start()"
   ]
  },
  {
   "cell_type": "code",
   "execution_count": 24,
   "metadata": {},
   "outputs": [
    {
     "data": {
      "text/plain": [
       "array([ 0.54476209,  1.24233633, -0.17214069])"
      ]
     },
     "execution_count": 24,
     "metadata": {},
     "output_type": "execute_result"
    }
   ],
   "source": [
    "board_pos"
   ]
  },
  {
   "cell_type": "code",
   "execution_count": 4,
   "metadata": {},
   "outputs": [],
   "source": [
    "dataset = []\n",
    "initial_time = time.time()\n",
    "\n",
    "for i in range(int(2400)):\n",
    "    dataset.append(\n",
    "        {\n",
    "            \"time\": time.time() - initial_time,\n",
    "            \"board_pos\": deepcopy(board_pos),\n",
    "            \"board_ori\": deepcopy(board_ori),\n",
    "        }\n",
    "    )\n",
    "\n",
    "    time.sleep(1/60)"
   ]
  },
  {
   "cell_type": "code",
   "execution_count": 5,
   "metadata": {},
   "outputs": [
    {
     "name": "stdout",
     "output_type": "stream",
     "text": [
      "shutdown request: [/tf_listener_node] Reason: new node registered with same name\n"
     ]
    }
   ],
   "source": [
    " with open(\"../data/moving_board_data.pickle\", \"wb\") as handle:\n",
    "        pickle.dump(dataset, handle, protocol=pickle.HIGHEST_PROTOCOL)"
   ]
  },
  {
   "cell_type": "code",
   "execution_count": null,
   "metadata": {},
   "outputs": [],
   "source": []
  }
 ],
 "metadata": {
  "kernelspec": {
   "display_name": "Python 3",
   "language": "python",
   "name": "python3"
  },
  "language_info": {
   "codemirror_mode": {
    "name": "ipython",
    "version": 3
   },
   "file_extension": ".py",
   "mimetype": "text/x-python",
   "name": "python",
   "nbconvert_exporter": "python",
   "pygments_lexer": "ipython3",
   "version": "3.8.16"
  }
 },
 "nbformat": 4,
 "nbformat_minor": 2
}
