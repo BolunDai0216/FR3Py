{
 "cells": [
  {
   "cell_type": "code",
   "execution_count": 1,
   "metadata": {},
   "outputs": [],
   "source": [
    "from FR3Py.lcm_msgs.fr3_commands import fr3_cmd\n",
    "from FR3Py.lcm_msgs.fr3_states import fr3_state\n",
    "from FR3Py.sim.lcm_bridges import LCMBridgeClient\n",
    "from FR3Py.utils import NumpyMemMapDataPipe\n",
    "import numpy as np"
   ]
  },
  {
   "cell_type": "code",
   "execution_count": 2,
   "metadata": {},
   "outputs": [],
   "source": [
    "lcm_bridge = LCMBridgeClient(robot_name='fr3')"
   ]
  },
  {
   "cell_type": "code",
   "execution_count": 3,
   "metadata": {},
   "outputs": [],
   "source": [
    "\n",
    "rgb_data_pipe = NumpyMemMapDataPipe(\n",
    "    \"rgb\", force=False, dtype=\"uint8\", shape=(480, 640, 4)\n",
    ")\n",
    "\n",
    "depth_data_pipe = NumpyMemMapDataPipe(\n",
    "    \"depth\", force=False, dtype=\"float32\", shape=(480, 640)\n",
    ")"
   ]
  },
  {
   "cell_type": "code",
   "execution_count": 4,
   "metadata": {},
   "outputs": [
    {
     "ename": "ValueError",
     "evalue": "Decode error",
     "output_type": "error",
     "traceback": [
      "\u001b[0;31m---------------------------------------------------------------------------\u001b[0m",
      "\u001b[0;31mValueError\u001b[0m                                Traceback (most recent call last)",
      "\u001b[1;32m/home/mocap/manipulation/rooholla/FR3Py/examples/isaacsim_simple_example.ipynb Cell 4\u001b[0m line \u001b[0;36m3\n\u001b[1;32m      <a href='vscode-notebook-cell:/home/mocap/manipulation/rooholla/FR3Py/examples/isaacsim_simple_example.ipynb#W3sZmlsZQ%3D%3D?line=0'>1</a>\u001b[0m \u001b[39mimport\u001b[39;00m \u001b[39mcv2\u001b[39;00m\n\u001b[1;32m      <a href='vscode-notebook-cell:/home/mocap/manipulation/rooholla/FR3Py/examples/isaacsim_simple_example.ipynb#W3sZmlsZQ%3D%3D?line=1'>2</a>\u001b[0m \u001b[39mwhile\u001b[39;00m \u001b[39mTrue\u001b[39;00m:\n\u001b[0;32m----> <a href='vscode-notebook-cell:/home/mocap/manipulation/rooholla/FR3Py/examples/isaacsim_simple_example.ipynb#W3sZmlsZQ%3D%3D?line=2'>3</a>\u001b[0m     state \u001b[39m=\u001b[39m lcm_bridge\u001b[39m.\u001b[39;49mgetStates(timeout\u001b[39m=\u001b[39;49m\u001b[39m0.1\u001b[39;49m)\n\u001b[1;32m      <a href='vscode-notebook-cell:/home/mocap/manipulation/rooholla/FR3Py/examples/isaacsim_simple_example.ipynb#W3sZmlsZQ%3D%3D?line=3'>4</a>\u001b[0m     cmd  \u001b[39m=\u001b[39m fr3_cmd()\n\u001b[1;32m      <a href='vscode-notebook-cell:/home/mocap/manipulation/rooholla/FR3Py/examples/isaacsim_simple_example.ipynb#W3sZmlsZQ%3D%3D?line=5'>6</a>\u001b[0m     cmd\u001b[39m.\u001b[39mcmd \u001b[39m=\u001b[39m  \u001b[39m9\u001b[39m\u001b[39m*\u001b[39m[\u001b[39m0.1\u001b[39m]\n",
      "File \u001b[0;32m~/.pyenv/versions/3.8.15/lib/python3.8/site-packages/FR3Py/lcm_bridges.py:106\u001b[0m, in \u001b[0;36mLCMBridgeClient.getStates\u001b[0;34m(self, timeout)\u001b[0m\n\u001b[1;32m    104\u001b[0m rfds, wfds, efds \u001b[39m=\u001b[39m select\u001b[39m.\u001b[39mselect([\u001b[39mself\u001b[39m\u001b[39m.\u001b[39mlc\u001b[39m.\u001b[39mfileno()], [], [], timeout)\n\u001b[1;32m    105\u001b[0m \u001b[39mif\u001b[39;00m rfds:  \u001b[39m# Handle only if there are data in the interface file\u001b[39;00m\n\u001b[0;32m--> 106\u001b[0m     \u001b[39mself\u001b[39;49m\u001b[39m.\u001b[39;49mlc\u001b[39m.\u001b[39;49mhandle()\n\u001b[1;32m    107\u001b[0m     \u001b[39mreturn\u001b[39;00m \u001b[39mself\u001b[39m\u001b[39m.\u001b[39mstates\n\u001b[1;32m    108\u001b[0m \u001b[39melse\u001b[39;00m:\n",
      "File \u001b[0;32m~/.pyenv/versions/3.8.15/lib/python3.8/site-packages/FR3Py/lcm_bridges.py:119\u001b[0m, in \u001b[0;36mLCMBridgeClient.state_callback\u001b[0;34m(self, channel, data)\u001b[0m\n\u001b[1;32m    111\u001b[0m \u001b[39mdef\u001b[39;00m \u001b[39mstate_callback\u001b[39m(\u001b[39mself\u001b[39m, channel, data):\n\u001b[1;32m    112\u001b[0m \u001b[39m    \u001b[39m\u001b[39m\"\"\"\u001b[39;00m\n\u001b[1;32m    113\u001b[0m \u001b[39m    Callback function that executes whenever a new robot state\u001b[39;00m\n\u001b[1;32m    114\u001b[0m \u001b[39m    is received from the C++ driver.\u001b[39;00m\n\u001b[0;32m   (...)\u001b[0m\n\u001b[1;32m    117\u001b[0m \u001b[39m    @param data: (bytes) The LCM message data\u001b[39;00m\n\u001b[1;32m    118\u001b[0m \u001b[39m    \"\"\"\u001b[39;00m\n\u001b[0;32m--> 119\u001b[0m     \u001b[39mself\u001b[39m\u001b[39m.\u001b[39mstates \u001b[39m=\u001b[39m UnitreeLowState\u001b[39m.\u001b[39;49mdecode(data)\n\u001b[1;32m    120\u001b[0m     \u001b[39mif\u001b[39;00m \u001b[39mself\u001b[39m\u001b[39m.\u001b[39muser_callback \u001b[39mis\u001b[39;00m \u001b[39mnot\u001b[39;00m \u001b[39mNone\u001b[39;00m:\n\u001b[1;32m    121\u001b[0m         \u001b[39mself\u001b[39m\u001b[39m.\u001b[39muser_callback(\u001b[39mself\u001b[39m\u001b[39m.\u001b[39mstates)\n",
      "File \u001b[0;32m~/.local/lib/python3.8/site-packages/B1Py/lcm_types/unitree_lowlevel/UnitreeLowState.py:114\u001b[0m, in \u001b[0;36mUnitreeLowState.decode\u001b[0;34m(data)\u001b[0m\n\u001b[1;32m    112\u001b[0m     buf \u001b[39m=\u001b[39m BytesIO(data)\n\u001b[1;32m    113\u001b[0m \u001b[39mif\u001b[39;00m buf\u001b[39m.\u001b[39mread(\u001b[39m8\u001b[39m) \u001b[39m!=\u001b[39m UnitreeLowState\u001b[39m.\u001b[39m_get_packed_fingerprint():\n\u001b[0;32m--> 114\u001b[0m     \u001b[39mraise\u001b[39;00m \u001b[39mValueError\u001b[39;00m(\u001b[39m\"\u001b[39m\u001b[39mDecode error\u001b[39m\u001b[39m\"\u001b[39m)\n\u001b[1;32m    115\u001b[0m \u001b[39mreturn\u001b[39;00m UnitreeLowState\u001b[39m.\u001b[39m_decode_one(buf)\n",
      "\u001b[0;31mValueError\u001b[0m: Decode error"
     ]
    }
   ],
   "source": [
    "import cv2\n",
    "while True:\n",
    "    state = lcm_bridge.getStates(timeout=0.1)\n",
    "    cmd  = fr3_cmd()\n",
    "\n",
    "    cmd.cmd =  9*[0.1]\n",
    "    lcm_bridge.sendCommands(cmd)\n",
    "    img =  rgb_data_pipe.read()\n",
    "    depth_map = depth_data_pipe.read()\n",
    "    cv2.imshow('rgb', img)\n",
    "    cv2.waitKey(1)"
   ]
  },
  {
   "cell_type": "code",
   "execution_count": 5,
   "metadata": {},
   "outputs": [],
   "source": [
    "cv2.destroyAllWindows()"
   ]
  },
  {
   "cell_type": "code",
   "execution_count": 6,
   "metadata": {},
   "outputs": [
    {
     "ename": "",
     "evalue": "",
     "output_type": "error",
     "traceback": [
      "\u001b[1;31mThe Kernel crashed while executing code in the the current cell or a previous cell. Please review the code in the cell(s) to identify a possible cause of the failure. Click <a href='https://aka.ms/vscodeJupyterKernelCrash'>here</a> for more info. View Jupyter <a href='command:jupyter.viewOutput'>log</a> for further details."
     ]
    }
   ],
   "source": [
    "%matplotlib\n",
    "import matplotlib.pyplot as plt\n",
    "fig1 = plt.figure()\n",
    "ax = fig1.add_subplot()\n",
    "\n",
    "def update_visualization(data):\n",
    "    ax.clear()\n",
    "    # Plot the 3D points for the current data\n",
    "    data=np.vstack([data, np.array([0,0,0]).reshape(1,3)])\n",
    "    ax.scatter(data[:, 0], data[:, 1])\n",
    "    ax.set_xlabel('X')\n",
    "    ax.set_ylabel('Y')\n",
    "    ax.set_xlim([-20,20])\n",
    "    ax.set_ylim([-20,20])\n",
    "    # ax.set_zlabel('Z')\n",
    "    ax.set_title('3D Points Visualization')\n",
    "    # plt.pause(0.001)  # Add a small delay to update the plot\n",
    "    # ax.grid(True)\n",
    "\n"
   ]
  },
  {
   "cell_type": "code",
   "execution_count": 5,
   "metadata": {},
   "outputs": [],
   "source": [
    "import time\n",
    "while True:\n",
    "    data = lidar_data_pipe.read()[:,7,:]\n",
    "    update_visualization(data)\n",
    "    plt.pause(0.1)"
   ]
  },
  {
   "cell_type": "code",
   "execution_count": null,
   "metadata": {},
   "outputs": [],
   "source": []
  }
 ],
 "metadata": {
  "kernelspec": {
   "display_name": "walk_these_ways",
   "language": "python",
   "name": "python3"
  },
  "language_info": {
   "codemirror_mode": {
    "name": "ipython",
    "version": 3
   },
   "file_extension": ".py",
   "mimetype": "text/x-python",
   "name": "python",
   "nbconvert_exporter": "python",
   "pygments_lexer": "ipython3",
   "version": "3.8.15"
  }
 },
 "nbformat": 4,
 "nbformat_minor": 2
}
