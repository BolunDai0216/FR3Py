{
   "cells": [
      {
         "cell_type": "code",
         "execution_count": 5,
         "metadata": {},
         "outputs": [],
         "source": [
            "from SimpleHandEye.solvers import OpenCVSolver\n",
            "from SimpleHandEye.interfaces.apriltag import ApriltagTracker\n",
            "import pandas as pd\n",
            "import numpy as np\n",
            "import pinocchio as pin\n",
            "import os \n",
            "import pickle"
         ]
      },
      {
         "cell_type": "code",
         "execution_count": 33,
         "metadata": {},
         "outputs": [],
         "source": [
            "tag_size = 0.171\n",
            "with open(os.path.join(dataset_path, 'camera_params.pkl'), 'rb') as f:\n",
            "    int_params = pickle.load(f)\n",
            "K = int_params['int_params']['RGB']['K']\n",
            "tracker = ApriltagTracker(tag_size=tag_size, intrinsic_matrix=K)"
         ]
      },
      {
         "cell_type": "code",
         "execution_count": 7,
         "metadata": {},
         "outputs": [],
         "source": [
            "poses = pd.read_csv(os.path.join(dataset_path, 'pose.csv'))\n",
            "stamps = poses.loc[:,'id'].to_numpy()\n",
            "trans = poses.loc[:,'x':'z'].to_numpy()\n",
            "rots = poses.loc[:,'qx':'qw'].to_numpy()"
         ]
      },
      {
         "cell_type": "code",
         "execution_count": 24,
         "metadata": {},
         "outputs": [],
         "source": [
            "import os\n",
            "import cv2\n",
            "dataset_path = 'dataset/apr24'\n",
            "images = os.listdir(os.path.join(dataset_path, 'rgb'))\n",
            "images.sort(key=lambda x:int(x.split('.')[0]))\n",
            "imgs = []\n",
            "poses = []\n",
            "cam_Ts_tag = []\n",
            "base_Ts_ef = []\n",
            "tag_corners = []\n",
            "for image in images:\n",
            "    stamp = int(image.split('.')[0])\n",
            "    img = cv2.imread(os.path.join(dataset_path,'rgb', image))\n",
            "    idx = np.where(stamps.squeeze()==stamp)[0]\n",
            "    if len(idx) !=0:\n",
            "        idx = idx[0]\n",
            "        imgs.append(img)\n",
            "        info = tracker.getPoseAndCorners(img, tag_id=0)\n",
            "        cam_T_tag = info['pose']\n",
            "        corners = info['corners']\n",
            "        tag_corners.append(corners)\n",
            "        cam_Ts_tag.append(cam_T_tag)\n",
            "        R = pin.Quaternion(rots[idx,:]).matrix()\n",
            "        t = trans[idx,:].reshape(3,1)\n",
            "        base_T_ef = np.hstack([R,t])\n",
            "        base_T_ef = np.vstack([base_T_ef, np.array([0,0,0,1])])\n",
            "        base_Ts_ef.append(base_T_ef)"
         ]
      },
      {
         "cell_type": "code",
         "execution_count": 25,
         "metadata": {},
         "outputs": [],
         "source": [
            "A = base_Ts_ef\n",
            "B = cam_Ts_tag\n",
            "solver = OpenCVSolver(type='AX=YB')\n",
            "X,Y = solver.solve(A, B)"
         ]
      },
      {
         "cell_type": "code",
         "execution_count": 26,
         "metadata": {},
         "outputs": [],
         "source": [
            "base_T_cam = Y"
         ]
      },
      {
         "cell_type": "code",
         "execution_count": 57,
         "metadata": {},
         "outputs": [
            {
               "data": {
                  "text/plain": [
                     "array([[ 0.40889382,  0.43091743, -0.80443521,  0.77993618],\n",
                     "       [ 0.90798509, -0.28047074,  0.31128643, -0.00220407],\n",
                     "       [-0.09148179, -0.85769828, -0.50594935,  0.31299386],\n",
                     "       [ 0.        ,  0.        ,  0.        ,  1.        ]])"
                  ]
               },
               "execution_count": 57,
               "metadata": {},
               "output_type": "execute_result"
            }
         ],
         "source": [
            "base_T_cam"
         ]
      },
      {
         "cell_type": "code",
         "execution_count": 58,
         "metadata": {},
         "outputs": [
            {
               "name": "stdout",
               "output_type": "stream",
               "text": [
                  "[ 0.00246872  0.01330266 -0.00407286]\n",
                  "[ 0.00572929 -0.00380917 -0.00100059]\n",
                  "[-0.00361441  0.02094144 -0.01737711]\n",
                  "[ 0.00188232 -0.01247749  0.0039812 ]\n",
                  "[ 0.00185214 -0.01214781  0.00417629]\n",
                  "[-0.00603116 -0.00993642  0.00769639]\n",
                  "[-0.0085883  -0.00264896  0.00409065]\n"
               ]
            }
         ],
         "source": [
            "for i in range(len(imgs)):\n",
            "    print((A[i]@X@np.linalg.inv(Y@B[i]))[:3,-1])"
         ]
      },
      {
         "cell_type": "code",
         "execution_count": 50,
         "metadata": {},
         "outputs": [],
         "source": [
            "pix_ps = np.vstack(tag_corners)[...,np.newaxis].tolist()"
         ]
      },
      {
         "cell_type": "code",
         "execution_count": 51,
         "metadata": {},
         "outputs": [],
         "source": [
            "tag_ps = np.vstack(len(A)*[[np.array([[-tag_size/2, tag_size/2, 0],\n",
            "                                [ tag_size/2, tag_size/2, 0],\n",
            "                                [ tag_size/2, -tag_size/2, 0],\n",
            "                                [-tag_size/2,  -tag_size/2, 0]])]]).tolist()"
         ]
      },
      {
         "cell_type": "code",
         "execution_count": 52,
         "metadata": {},
         "outputs": [],
         "source": [
            "from SimpleHandEye.optimizers import AXYBReprojectionOptimizer\n",
            "solver = AXYBReprojectionOptimizer(camera_T_tag='B', camera_matrix=K) "
         ]
      },
      {
         "cell_type": "code",
         "execution_count": 53,
         "metadata": {},
         "outputs": [
            {
               "ename": "AssertionError",
               "evalue": "Gave args ([701.813720703125],) for <class 'symforce.geo.matrix.Matrix21'>",
               "output_type": "error",
               "traceback": [
                  "\u001b[0;31m---------------------------------------------------------------------------\u001b[0m",
                  "\u001b[0;31mAssertionError\u001b[0m                            Traceback (most recent call last)",
                  "Cell \u001b[0;32mIn[53], line 1\u001b[0m\n\u001b[0;32m----> 1\u001b[0m \u001b[43msolver\u001b[49m\u001b[38;5;241;43m.\u001b[39;49m\u001b[43msolve\u001b[49m\u001b[43m(\u001b[49m\u001b[43mA\u001b[49m\u001b[38;5;241;43m=\u001b[39;49m\u001b[43mA\u001b[49m\u001b[43m,\u001b[49m\u001b[43m \u001b[49m\u001b[43mB\u001b[49m\u001b[38;5;241;43m=\u001b[39;49m\u001b[43mB\u001b[49m\u001b[43m,\u001b[49m\u001b[43m \u001b[49m\u001b[43mX\u001b[49m\u001b[38;5;241;43m=\u001b[39;49m\u001b[43mX\u001b[49m\u001b[43m,\u001b[49m\u001b[43m \u001b[49m\u001b[43mY\u001b[49m\u001b[38;5;241;43m=\u001b[39;49m\u001b[43mY\u001b[49m\u001b[43m,\u001b[49m\u001b[43m \u001b[49m\u001b[43mpix_ps\u001b[49m\u001b[38;5;241;43m=\u001b[39;49m\u001b[43mpix_ps\u001b[49m\u001b[43m,\u001b[49m\u001b[43m \u001b[49m\u001b[43mtag_ps\u001b[49m\u001b[38;5;241;43m=\u001b[39;49m\u001b[43mtag_ps\u001b[49m\u001b[43m)\u001b[49m\n",
                  "File \u001b[0;32m~/projects/rooholla/calibration/SimpleHandEye/SimpleHandEye/optimizers.py:97\u001b[0m, in \u001b[0;36mAXYBReprojectionOptimizer.solve\u001b[0;34m(self, A, X, Y, B, tag_ps, pix_ps)\u001b[0m\n\u001b[1;32m     79\u001b[0m \u001b[38;5;28;01massert\u001b[39;00m \u001b[38;5;28mlen\u001b[39m(A) \u001b[38;5;241m>\u001b[39m \u001b[38;5;241m0\u001b[39m, \u001b[38;5;124m\"\u001b[39m\u001b[38;5;124mAll lists must have at least one element\u001b[39m\u001b[38;5;124m\"\u001b[39m\n\u001b[1;32m     80\u001b[0m \u001b[38;5;28;01massert\u001b[39;00m \u001b[38;5;28mself\u001b[39m\u001b[38;5;241m.\u001b[39mcamera_matrix \u001b[38;5;129;01mis\u001b[39;00m \u001b[38;5;129;01mnot\u001b[39;00m \u001b[38;5;28;01mNone\u001b[39;00m, \u001b[38;5;124m\"\u001b[39m\u001b[38;5;124mcamera_matrix must be set\u001b[39m\u001b[38;5;124m\"\u001b[39m\n\u001b[1;32m     82\u001b[0m initial_values \u001b[38;5;241m=\u001b[39m Values(\n\u001b[1;32m     83\u001b[0m                         A \u001b[38;5;241m=\u001b[39m [sf\u001b[38;5;241m.\u001b[39mPose3(R \u001b[38;5;241m=\u001b[39m sf\u001b[38;5;241m.\u001b[39mRot3\u001b[38;5;241m.\u001b[39mfrom_rotation_matrix(T[\u001b[38;5;241m0\u001b[39m:\u001b[38;5;241m3\u001b[39m,\u001b[38;5;241m0\u001b[39m:\u001b[38;5;241m3\u001b[39m]),\n\u001b[1;32m     84\u001b[0m                                                         t \u001b[38;5;241m=\u001b[39m sf\u001b[38;5;241m.\u001b[39mV3(T[\u001b[38;5;241m0\u001b[39m:\u001b[38;5;241m3\u001b[39m,\u001b[38;5;241m-\u001b[39m\u001b[38;5;241m1\u001b[39m]))\\\n\u001b[1;32m     85\u001b[0m                                                         \u001b[38;5;28;01mfor\u001b[39;00m T \u001b[38;5;129;01min\u001b[39;00m A ],\n\u001b[1;32m     86\u001b[0m \n\u001b[1;32m     87\u001b[0m                         B \u001b[38;5;241m=\u001b[39m [sf\u001b[38;5;241m.\u001b[39mPose3(R \u001b[38;5;241m=\u001b[39m sf\u001b[38;5;241m.\u001b[39mRot3\u001b[38;5;241m.\u001b[39mfrom_rotation_matrix(T[\u001b[38;5;241m0\u001b[39m:\u001b[38;5;241m3\u001b[39m,\u001b[38;5;241m0\u001b[39m:\u001b[38;5;241m3\u001b[39m]),\n\u001b[1;32m     88\u001b[0m                                                         t \u001b[38;5;241m=\u001b[39m sf\u001b[38;5;241m.\u001b[39mV3(T[\u001b[38;5;241m0\u001b[39m:\u001b[38;5;241m3\u001b[39m,\u001b[38;5;241m-\u001b[39m\u001b[38;5;241m1\u001b[39m]))\\\n\u001b[1;32m     89\u001b[0m                                                         \u001b[38;5;28;01mfor\u001b[39;00m T \u001b[38;5;129;01min\u001b[39;00m B ],\n\u001b[1;32m     90\u001b[0m                         \n\u001b[1;32m     91\u001b[0m                         Y \u001b[38;5;241m=\u001b[39m sf\u001b[38;5;241m.\u001b[39mPose3(R \u001b[38;5;241m=\u001b[39m sf\u001b[38;5;241m.\u001b[39mRot3\u001b[38;5;241m.\u001b[39mfrom_rotation_matrix(Y[\u001b[38;5;241m0\u001b[39m:\u001b[38;5;241m3\u001b[39m,\u001b[38;5;241m0\u001b[39m:\u001b[38;5;241m3\u001b[39m]),\n\u001b[1;32m     92\u001b[0m                                      t \u001b[38;5;241m=\u001b[39m sf\u001b[38;5;241m.\u001b[39mV3(Y[\u001b[38;5;241m0\u001b[39m:\u001b[38;5;241m3\u001b[39m,\u001b[38;5;241m-\u001b[39m\u001b[38;5;241m1\u001b[39m])),\n\u001b[1;32m     93\u001b[0m \n\u001b[1;32m     94\u001b[0m                         X \u001b[38;5;241m=\u001b[39m sf\u001b[38;5;241m.\u001b[39mPose3(R \u001b[38;5;241m=\u001b[39m sf\u001b[38;5;241m.\u001b[39mRot3\u001b[38;5;241m.\u001b[39mfrom_rotation_matrix(X[\u001b[38;5;241m0\u001b[39m:\u001b[38;5;241m3\u001b[39m,\u001b[38;5;241m0\u001b[39m:\u001b[38;5;241m3\u001b[39m]),\n\u001b[1;32m     95\u001b[0m                                                 t \u001b[38;5;241m=\u001b[39m sf\u001b[38;5;241m.\u001b[39mV3(X[\u001b[38;5;241m0\u001b[39m:\u001b[38;5;241m3\u001b[39m,\u001b[38;5;241m-\u001b[39m\u001b[38;5;241m1\u001b[39m])),\n\u001b[1;32m     96\u001b[0m                         K \u001b[38;5;241m=\u001b[39m sf\u001b[38;5;241m.\u001b[39mMatrix33(\u001b[38;5;28mself\u001b[39m\u001b[38;5;241m.\u001b[39mcamera_matrix),\n\u001b[0;32m---> 97\u001b[0m                         pix_ps \u001b[38;5;241m=\u001b[39m [[sf\u001b[38;5;241m.\u001b[39mV2(pix) \u001b[38;5;28;01mfor\u001b[39;00m pix \u001b[38;5;129;01min\u001b[39;00m pixels] \u001b[38;5;28;01mfor\u001b[39;00m pixels \u001b[38;5;129;01min\u001b[39;00m pix_ps],\n\u001b[1;32m     98\u001b[0m                         tag_ps \u001b[38;5;241m=\u001b[39m [[sf\u001b[38;5;241m.\u001b[39mV3(c) \u001b[38;5;28;01mfor\u001b[39;00m c \u001b[38;5;129;01min\u001b[39;00m corners] \u001b[38;5;28;01mfor\u001b[39;00m corners \u001b[38;5;129;01min\u001b[39;00m tag_ps],\n\u001b[1;32m     99\u001b[0m                         sigma \u001b[38;5;241m=\u001b[39m sf\u001b[38;5;241m.\u001b[39mScalar(\u001b[38;5;28mfloat\u001b[39m(\u001b[38;5;28mlen\u001b[39m(pix_ps))),\n\u001b[1;32m    100\u001b[0m                         epsilon \u001b[38;5;241m=\u001b[39m sf\u001b[38;5;241m.\u001b[39mnumeric_epsilon,\n\u001b[1;32m    101\u001b[0m                         )  \n\u001b[1;32m    102\u001b[0m \u001b[38;5;28mself\u001b[39m\u001b[38;5;241m.\u001b[39minitial_values \u001b[38;5;241m=\u001b[39m initial_values\n\u001b[1;32m    104\u001b[0m factors \u001b[38;5;241m=\u001b[39m []\n",
                  "File \u001b[0;32m~/projects/rooholla/calibration/SimpleHandEye/SimpleHandEye/optimizers.py:97\u001b[0m, in \u001b[0;36m<listcomp>\u001b[0;34m(.0)\u001b[0m\n\u001b[1;32m     79\u001b[0m \u001b[38;5;28;01massert\u001b[39;00m \u001b[38;5;28mlen\u001b[39m(A) \u001b[38;5;241m>\u001b[39m \u001b[38;5;241m0\u001b[39m, \u001b[38;5;124m\"\u001b[39m\u001b[38;5;124mAll lists must have at least one element\u001b[39m\u001b[38;5;124m\"\u001b[39m\n\u001b[1;32m     80\u001b[0m \u001b[38;5;28;01massert\u001b[39;00m \u001b[38;5;28mself\u001b[39m\u001b[38;5;241m.\u001b[39mcamera_matrix \u001b[38;5;129;01mis\u001b[39;00m \u001b[38;5;129;01mnot\u001b[39;00m \u001b[38;5;28;01mNone\u001b[39;00m, \u001b[38;5;124m\"\u001b[39m\u001b[38;5;124mcamera_matrix must be set\u001b[39m\u001b[38;5;124m\"\u001b[39m\n\u001b[1;32m     82\u001b[0m initial_values \u001b[38;5;241m=\u001b[39m Values(\n\u001b[1;32m     83\u001b[0m                         A \u001b[38;5;241m=\u001b[39m [sf\u001b[38;5;241m.\u001b[39mPose3(R \u001b[38;5;241m=\u001b[39m sf\u001b[38;5;241m.\u001b[39mRot3\u001b[38;5;241m.\u001b[39mfrom_rotation_matrix(T[\u001b[38;5;241m0\u001b[39m:\u001b[38;5;241m3\u001b[39m,\u001b[38;5;241m0\u001b[39m:\u001b[38;5;241m3\u001b[39m]),\n\u001b[1;32m     84\u001b[0m                                                         t \u001b[38;5;241m=\u001b[39m sf\u001b[38;5;241m.\u001b[39mV3(T[\u001b[38;5;241m0\u001b[39m:\u001b[38;5;241m3\u001b[39m,\u001b[38;5;241m-\u001b[39m\u001b[38;5;241m1\u001b[39m]))\\\n\u001b[1;32m     85\u001b[0m                                                         \u001b[38;5;28;01mfor\u001b[39;00m T \u001b[38;5;129;01min\u001b[39;00m A ],\n\u001b[1;32m     86\u001b[0m \n\u001b[1;32m     87\u001b[0m                         B \u001b[38;5;241m=\u001b[39m [sf\u001b[38;5;241m.\u001b[39mPose3(R \u001b[38;5;241m=\u001b[39m sf\u001b[38;5;241m.\u001b[39mRot3\u001b[38;5;241m.\u001b[39mfrom_rotation_matrix(T[\u001b[38;5;241m0\u001b[39m:\u001b[38;5;241m3\u001b[39m,\u001b[38;5;241m0\u001b[39m:\u001b[38;5;241m3\u001b[39m]),\n\u001b[1;32m     88\u001b[0m                                                         t \u001b[38;5;241m=\u001b[39m sf\u001b[38;5;241m.\u001b[39mV3(T[\u001b[38;5;241m0\u001b[39m:\u001b[38;5;241m3\u001b[39m,\u001b[38;5;241m-\u001b[39m\u001b[38;5;241m1\u001b[39m]))\\\n\u001b[1;32m     89\u001b[0m                                                         \u001b[38;5;28;01mfor\u001b[39;00m T \u001b[38;5;129;01min\u001b[39;00m B ],\n\u001b[1;32m     90\u001b[0m                         \n\u001b[1;32m     91\u001b[0m                         Y \u001b[38;5;241m=\u001b[39m sf\u001b[38;5;241m.\u001b[39mPose3(R \u001b[38;5;241m=\u001b[39m sf\u001b[38;5;241m.\u001b[39mRot3\u001b[38;5;241m.\u001b[39mfrom_rotation_matrix(Y[\u001b[38;5;241m0\u001b[39m:\u001b[38;5;241m3\u001b[39m,\u001b[38;5;241m0\u001b[39m:\u001b[38;5;241m3\u001b[39m]),\n\u001b[1;32m     92\u001b[0m                                      t \u001b[38;5;241m=\u001b[39m sf\u001b[38;5;241m.\u001b[39mV3(Y[\u001b[38;5;241m0\u001b[39m:\u001b[38;5;241m3\u001b[39m,\u001b[38;5;241m-\u001b[39m\u001b[38;5;241m1\u001b[39m])),\n\u001b[1;32m     93\u001b[0m \n\u001b[1;32m     94\u001b[0m                         X \u001b[38;5;241m=\u001b[39m sf\u001b[38;5;241m.\u001b[39mPose3(R \u001b[38;5;241m=\u001b[39m sf\u001b[38;5;241m.\u001b[39mRot3\u001b[38;5;241m.\u001b[39mfrom_rotation_matrix(X[\u001b[38;5;241m0\u001b[39m:\u001b[38;5;241m3\u001b[39m,\u001b[38;5;241m0\u001b[39m:\u001b[38;5;241m3\u001b[39m]),\n\u001b[1;32m     95\u001b[0m                                                 t \u001b[38;5;241m=\u001b[39m sf\u001b[38;5;241m.\u001b[39mV3(X[\u001b[38;5;241m0\u001b[39m:\u001b[38;5;241m3\u001b[39m,\u001b[38;5;241m-\u001b[39m\u001b[38;5;241m1\u001b[39m])),\n\u001b[1;32m     96\u001b[0m                         K \u001b[38;5;241m=\u001b[39m sf\u001b[38;5;241m.\u001b[39mMatrix33(\u001b[38;5;28mself\u001b[39m\u001b[38;5;241m.\u001b[39mcamera_matrix),\n\u001b[0;32m---> 97\u001b[0m                         pix_ps \u001b[38;5;241m=\u001b[39m [[sf\u001b[38;5;241m.\u001b[39mV2(pix) \u001b[38;5;28;01mfor\u001b[39;00m pix \u001b[38;5;129;01min\u001b[39;00m pixels] \u001b[38;5;28;01mfor\u001b[39;00m pixels \u001b[38;5;129;01min\u001b[39;00m pix_ps],\n\u001b[1;32m     98\u001b[0m                         tag_ps \u001b[38;5;241m=\u001b[39m [[sf\u001b[38;5;241m.\u001b[39mV3(c) \u001b[38;5;28;01mfor\u001b[39;00m c \u001b[38;5;129;01min\u001b[39;00m corners] \u001b[38;5;28;01mfor\u001b[39;00m corners \u001b[38;5;129;01min\u001b[39;00m tag_ps],\n\u001b[1;32m     99\u001b[0m                         sigma \u001b[38;5;241m=\u001b[39m sf\u001b[38;5;241m.\u001b[39mScalar(\u001b[38;5;28mfloat\u001b[39m(\u001b[38;5;28mlen\u001b[39m(pix_ps))),\n\u001b[1;32m    100\u001b[0m                         epsilon \u001b[38;5;241m=\u001b[39m sf\u001b[38;5;241m.\u001b[39mnumeric_epsilon,\n\u001b[1;32m    101\u001b[0m                         )  \n\u001b[1;32m    102\u001b[0m \u001b[38;5;28mself\u001b[39m\u001b[38;5;241m.\u001b[39minitial_values \u001b[38;5;241m=\u001b[39m initial_values\n\u001b[1;32m    104\u001b[0m factors \u001b[38;5;241m=\u001b[39m []\n",
                  "File \u001b[0;32m~/projects/rooholla/calibration/SimpleHandEye/SimpleHandEye/optimizers.py:97\u001b[0m, in \u001b[0;36m<listcomp>\u001b[0;34m(.0)\u001b[0m\n\u001b[1;32m     79\u001b[0m \u001b[38;5;28;01massert\u001b[39;00m \u001b[38;5;28mlen\u001b[39m(A) \u001b[38;5;241m>\u001b[39m \u001b[38;5;241m0\u001b[39m, \u001b[38;5;124m\"\u001b[39m\u001b[38;5;124mAll lists must have at least one element\u001b[39m\u001b[38;5;124m\"\u001b[39m\n\u001b[1;32m     80\u001b[0m \u001b[38;5;28;01massert\u001b[39;00m \u001b[38;5;28mself\u001b[39m\u001b[38;5;241m.\u001b[39mcamera_matrix \u001b[38;5;129;01mis\u001b[39;00m \u001b[38;5;129;01mnot\u001b[39;00m \u001b[38;5;28;01mNone\u001b[39;00m, \u001b[38;5;124m\"\u001b[39m\u001b[38;5;124mcamera_matrix must be set\u001b[39m\u001b[38;5;124m\"\u001b[39m\n\u001b[1;32m     82\u001b[0m initial_values \u001b[38;5;241m=\u001b[39m Values(\n\u001b[1;32m     83\u001b[0m                         A \u001b[38;5;241m=\u001b[39m [sf\u001b[38;5;241m.\u001b[39mPose3(R \u001b[38;5;241m=\u001b[39m sf\u001b[38;5;241m.\u001b[39mRot3\u001b[38;5;241m.\u001b[39mfrom_rotation_matrix(T[\u001b[38;5;241m0\u001b[39m:\u001b[38;5;241m3\u001b[39m,\u001b[38;5;241m0\u001b[39m:\u001b[38;5;241m3\u001b[39m]),\n\u001b[1;32m     84\u001b[0m                                                         t \u001b[38;5;241m=\u001b[39m sf\u001b[38;5;241m.\u001b[39mV3(T[\u001b[38;5;241m0\u001b[39m:\u001b[38;5;241m3\u001b[39m,\u001b[38;5;241m-\u001b[39m\u001b[38;5;241m1\u001b[39m]))\\\n\u001b[1;32m     85\u001b[0m                                                         \u001b[38;5;28;01mfor\u001b[39;00m T \u001b[38;5;129;01min\u001b[39;00m A ],\n\u001b[1;32m     86\u001b[0m \n\u001b[1;32m     87\u001b[0m                         B \u001b[38;5;241m=\u001b[39m [sf\u001b[38;5;241m.\u001b[39mPose3(R \u001b[38;5;241m=\u001b[39m sf\u001b[38;5;241m.\u001b[39mRot3\u001b[38;5;241m.\u001b[39mfrom_rotation_matrix(T[\u001b[38;5;241m0\u001b[39m:\u001b[38;5;241m3\u001b[39m,\u001b[38;5;241m0\u001b[39m:\u001b[38;5;241m3\u001b[39m]),\n\u001b[1;32m     88\u001b[0m                                                         t \u001b[38;5;241m=\u001b[39m sf\u001b[38;5;241m.\u001b[39mV3(T[\u001b[38;5;241m0\u001b[39m:\u001b[38;5;241m3\u001b[39m,\u001b[38;5;241m-\u001b[39m\u001b[38;5;241m1\u001b[39m]))\\\n\u001b[1;32m     89\u001b[0m                                                         \u001b[38;5;28;01mfor\u001b[39;00m T \u001b[38;5;129;01min\u001b[39;00m B ],\n\u001b[1;32m     90\u001b[0m                         \n\u001b[1;32m     91\u001b[0m                         Y \u001b[38;5;241m=\u001b[39m sf\u001b[38;5;241m.\u001b[39mPose3(R \u001b[38;5;241m=\u001b[39m sf\u001b[38;5;241m.\u001b[39mRot3\u001b[38;5;241m.\u001b[39mfrom_rotation_matrix(Y[\u001b[38;5;241m0\u001b[39m:\u001b[38;5;241m3\u001b[39m,\u001b[38;5;241m0\u001b[39m:\u001b[38;5;241m3\u001b[39m]),\n\u001b[1;32m     92\u001b[0m                                      t \u001b[38;5;241m=\u001b[39m sf\u001b[38;5;241m.\u001b[39mV3(Y[\u001b[38;5;241m0\u001b[39m:\u001b[38;5;241m3\u001b[39m,\u001b[38;5;241m-\u001b[39m\u001b[38;5;241m1\u001b[39m])),\n\u001b[1;32m     93\u001b[0m \n\u001b[1;32m     94\u001b[0m                         X \u001b[38;5;241m=\u001b[39m sf\u001b[38;5;241m.\u001b[39mPose3(R \u001b[38;5;241m=\u001b[39m sf\u001b[38;5;241m.\u001b[39mRot3\u001b[38;5;241m.\u001b[39mfrom_rotation_matrix(X[\u001b[38;5;241m0\u001b[39m:\u001b[38;5;241m3\u001b[39m,\u001b[38;5;241m0\u001b[39m:\u001b[38;5;241m3\u001b[39m]),\n\u001b[1;32m     95\u001b[0m                                                 t \u001b[38;5;241m=\u001b[39m sf\u001b[38;5;241m.\u001b[39mV3(X[\u001b[38;5;241m0\u001b[39m:\u001b[38;5;241m3\u001b[39m,\u001b[38;5;241m-\u001b[39m\u001b[38;5;241m1\u001b[39m])),\n\u001b[1;32m     96\u001b[0m                         K \u001b[38;5;241m=\u001b[39m sf\u001b[38;5;241m.\u001b[39mMatrix33(\u001b[38;5;28mself\u001b[39m\u001b[38;5;241m.\u001b[39mcamera_matrix),\n\u001b[0;32m---> 97\u001b[0m                         pix_ps \u001b[38;5;241m=\u001b[39m [[\u001b[43msf\u001b[49m\u001b[38;5;241;43m.\u001b[39;49m\u001b[43mV2\u001b[49m\u001b[43m(\u001b[49m\u001b[43mpix\u001b[49m\u001b[43m)\u001b[49m \u001b[38;5;28;01mfor\u001b[39;00m pix \u001b[38;5;129;01min\u001b[39;00m pixels] \u001b[38;5;28;01mfor\u001b[39;00m pixels \u001b[38;5;129;01min\u001b[39;00m pix_ps],\n\u001b[1;32m     98\u001b[0m                         tag_ps \u001b[38;5;241m=\u001b[39m [[sf\u001b[38;5;241m.\u001b[39mV3(c) \u001b[38;5;28;01mfor\u001b[39;00m c \u001b[38;5;129;01min\u001b[39;00m corners] \u001b[38;5;28;01mfor\u001b[39;00m corners \u001b[38;5;129;01min\u001b[39;00m tag_ps],\n\u001b[1;32m     99\u001b[0m                         sigma \u001b[38;5;241m=\u001b[39m sf\u001b[38;5;241m.\u001b[39mScalar(\u001b[38;5;28mfloat\u001b[39m(\u001b[38;5;28mlen\u001b[39m(pix_ps))),\n\u001b[1;32m    100\u001b[0m                         epsilon \u001b[38;5;241m=\u001b[39m sf\u001b[38;5;241m.\u001b[39mnumeric_epsilon,\n\u001b[1;32m    101\u001b[0m                         )  \n\u001b[1;32m    102\u001b[0m \u001b[38;5;28mself\u001b[39m\u001b[38;5;241m.\u001b[39minitial_values \u001b[38;5;241m=\u001b[39m initial_values\n\u001b[1;32m    104\u001b[0m factors \u001b[38;5;241m=\u001b[39m []\n",
                  "File \u001b[0;32m~/.local/lib/python3.8/site-packages/symforce/geo/matrix.py:109\u001b[0m, in \u001b[0;36mMatrix.__new__\u001b[0;34m(cls, *args, **kwargs)\u001b[0m\n\u001b[1;32m    106\u001b[0m \u001b[38;5;66;03m# 1D array - if fixed size this must match data length. If not, assume column vec.\u001b[39;00m\n\u001b[1;32m    107\u001b[0m \u001b[38;5;28;01melse\u001b[39;00m:\n\u001b[1;32m    108\u001b[0m     \u001b[38;5;28;01mif\u001b[39;00m \u001b[38;5;28mcls\u001b[39m\u001b[38;5;241m.\u001b[39m_is_fixed_size():\n\u001b[0;32m--> 109\u001b[0m         \u001b[38;5;28;01massert\u001b[39;00m \u001b[38;5;28mlen\u001b[39m(array) \u001b[38;5;241m==\u001b[39m \u001b[38;5;28mcls\u001b[39m\u001b[38;5;241m.\u001b[39mstorage_dim(), \u001b[38;5;124mf\u001b[39m\u001b[38;5;124m\"\u001b[39m\u001b[38;5;124mGave args \u001b[39m\u001b[38;5;132;01m{\u001b[39;00margs\u001b[38;5;132;01m}\u001b[39;00m\u001b[38;5;124m for \u001b[39m\u001b[38;5;132;01m{\u001b[39;00m\u001b[38;5;28mcls\u001b[39m\u001b[38;5;132;01m}\u001b[39;00m\u001b[38;5;124m\"\u001b[39m\n\u001b[1;32m    110\u001b[0m         rows, cols \u001b[38;5;241m=\u001b[39m \u001b[38;5;28mcls\u001b[39m\u001b[38;5;241m.\u001b[39mSHAPE\n\u001b[1;32m    111\u001b[0m     \u001b[38;5;28;01melse\u001b[39;00m:\n\u001b[1;32m    112\u001b[0m         \u001b[38;5;66;03m# Only set the second dimension to 1 if the array is nonempty\u001b[39;00m\n",
                  "\u001b[0;31mAssertionError\u001b[0m: Gave args ([701.813720703125],) for <class 'symforce.geo.matrix.Matrix21'>"
               ]
            }
         ],
         "source": [
            "solver.solve(A=A, B=B, X=X, Y=Y, pix_ps=pix_ps, tag_ps=tag_ps)"
         ]
      }
   ],
   "metadata": {
      "kernelspec": {
         "display_name": "Python 3",
         "language": "python",
         "name": "python3"
      },
      "language_info": {
         "codemirror_mode": {
            "name": "ipython",
            "version": 3
         },
         "file_extension": ".py",
         "mimetype": "text/x-python",
         "name": "python",
         "nbconvert_exporter": "python",
         "pygments_lexer": "ipython3",
         "version": "3.8.18"
      }
   },
   "nbformat": 4,
   "nbformat_minor": 2
}
