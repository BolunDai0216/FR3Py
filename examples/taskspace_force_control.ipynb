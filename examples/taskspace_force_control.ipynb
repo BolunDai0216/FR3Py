{
 "cells": [
  {
   "cell_type": "code",
   "execution_count": 17,
   "metadata": {},
   "outputs": [],
   "source": [
    "from FR3Py.robot.model import PinocchioModel\n",
    "from liegroups import SO3\n",
    "import numpy as np"
   ]
  },
  {
   "cell_type": "code",
   "execution_count": null,
   "metadata": {},
   "outputs": [],
   "source": [
    "from FR3Py.robot.interface import FR3Real"
   ]
  },
  {
   "cell_type": "code",
   "execution_count": null,
   "metadata": {},
   "outputs": [],
   "source": [
    "robot = FR3Real(robot_id='fr3')"
   ]
  },
  {
   "cell_type": "code",
   "execution_count": null,
   "metadata": {},
   "outputs": [],
   "source": [
    "model = PinocchioModel()"
   ]
  },
  {
   "cell_type": "code",
   "execution_count": null,
   "metadata": {},
   "outputs": [],
   "source": [
    "robot.getStates()"
   ]
  },
  {
   "cell_type": "code",
   "execution_count": null,
   "metadata": {},
   "outputs": [],
   "source": [
    "import time\n",
    "state = robot.getStates()\n",
    "info = model.getInfo(state['q'], state['dq'])\n",
    "R0 = info['R_EE']\n",
    "Kv = 3*np.eye(3)\n",
    "Kp = 20*np.eye(3)\n",
    "while True:\n",
    "    time.sleep(0.002)\n",
    "    state = robot.getStates()\n",
    "    info = model.getInfo(state['q'], state['dq'])\n",
    "    J = info['J_EE'][:, :7]\n",
    "    Jr = J[3:, :] \n",
    "    omega = Jr@state['dq'][:7]\n",
    "    rot_error = SO3(R0@info['R_EE'].T).log()\n",
    "    tau = Jr.T@(Kp@rot_error - Kv*omega) \n",
    "    robot.sendCommands(np.hstack([tau, np.zeros(2)]))"
   ]
  }
 ],
 "metadata": {
  "kernelspec": {
   "display_name": "Python 3",
   "language": "python",
   "name": "python3"
  },
  "language_info": {
   "codemirror_mode": {
    "name": "ipython",
    "version": 3
   },
   "file_extension": ".py",
   "mimetype": "text/x-python",
   "name": "python",
   "nbconvert_exporter": "python",
   "pygments_lexer": "ipython3",
   "version": "3.8.10"
  }
 },
 "nbformat": 4,
 "nbformat_minor": 2
}
