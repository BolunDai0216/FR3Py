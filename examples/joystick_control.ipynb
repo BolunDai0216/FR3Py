{
 "cells": [
  {
   "attachments": {},
   "cell_type": "markdown",
   "metadata": {},
   "source": [
    "# Control The Robot with Joystick"
   ]
  },
  {
   "cell_type": "code",
   "execution_count": null,
   "metadata": {},
   "outputs": [],
   "source": [
    "from FR3Py.interfaces import FR3Real\n",
    "robot = FR3Real()"
   ]
  },
  {
   "cell_type": "markdown",
   "metadata": {},
   "source": [
    "Test the interface by reading the robot joints:"
   ]
  },
  {
   "cell_type": "code",
   "execution_count": null,
   "metadata": {},
   "outputs": [],
   "source": [
    "robot.get_state()"
   ]
  },
  {
   "cell_type": "code",
   "execution_count": null,
   "metadata": {},
   "outputs": [],
   "source": [
    "from pyJoy.joy_daq import JoyManager\n",
    "import time    \n",
    "joy1  = JoyManager()\n",
    "joy1.start_daq(joy_idx=0)\n",
    "joy1.offset_calibration()\n",
    "time.sleep(3)"
   ]
  },
  {
   "cell_type": "code",
   "execution_count": null,
   "metadata": {},
   "outputs": [],
   "source": [
    "import time\n",
    "import numpy as np\n",
    "from FR3Py.controllers.waypoint_controller import WaypointController\n",
    "controller = WaypointController(kp=4)\n",
    "# Read the initila pose of the robot\n",
    "time.sleep(1)\n",
    "state = robot.get_state()\n",
    "\n",
    "q, dq = state['q'], state['dq']\n",
    "p0 = controller.robot.getInfo(q,dq)['P_EE']\n",
    "R0 = controller.robot.getInfo(q,dq)['R_EE']\n",
    "T0 = np.vstack([np.hstack([R0, p0.reshape(3,1)]), np.array([0,0,0,1])])\n",
    "start_time = time.time()\n",
    "\n",
    "x0, y0, z0 = 0.0, 0.0, 0.0 \n",
    "R0 = np.eye(3)\n",
    "while True:\n",
    "    analog, digital = joy1.read_values()\n",
    "    cmd = np.array([analog[0],analog[1],analog[2]])\n",
    "    for i in range(3):\n",
    "        if np.abs(cmd[i])<0.1:\n",
    "            cmd[i] = 0 \n",
    "\n",
    "    if digital[0]==0:\n",
    "        x0 = x0 + cmd[0]*0.2/100\n",
    "        y0 = y0 + cmd[1]*0.2/100\n",
    "        z0 = z0 + cmd[2]*0.2/100\n",
    "    else:\n",
    "        omega_hat = np.array([[ 0,       -cmd[2],  cmd[1]],\n",
    "                              [ cmd[2],   0,      -cmd[0]],\n",
    "                              [-cmd[1],   cmd[0],      0]])\n",
    "        R0 = R0@(np.eye(3)+omega_hat/100)\n",
    "\n",
    "    time.sleep(0.01)\n",
    "    T= T0@np.vstack([np.hstack([R0, np.array([x0,y0,z0]).reshape(3,1)]), np.array([0,0,0,1])])\n",
    "    state = robot.get_state()\n",
    "    q, dq = state['q'], state['dq']\n",
    "    cmd = controller.compute(q,dq, T_cmd=T)\n",
    "    robot.send_joint_command(cmd[0:7])"
   ]
  },
  {
   "cell_type": "code",
   "execution_count": null,
   "metadata": {},
   "outputs": [],
   "source": [
    "analog, digital = joy1.read_values()\n",
    "cmd_vx,cmd_vy,cmd_vz = analog[0],analog[1],analog[2]"
   ]
  }
 ],
 "metadata": {
  "kernelspec": {
   "display_name": "Python 3",
   "language": "python",
   "name": "python3"
  },
  "language_info": {
   "codemirror_mode": {
    "name": "ipython",
    "version": 3
   },
   "file_extension": ".py",
   "mimetype": "text/x-python",
   "name": "python",
   "nbconvert_exporter": "python",
   "pygments_lexer": "ipython3",
   "version": "3.8.15"
  },
  "orig_nbformat": 4,
  "vscode": {
   "interpreter": {
    "hash": "916dbcbb3f70747c44a77c7bcd40155683ae19c65e1c03b4aa3499c5328201f1"
   }
  }
 },
 "nbformat": 4,
 "nbformat_minor": 2
}
