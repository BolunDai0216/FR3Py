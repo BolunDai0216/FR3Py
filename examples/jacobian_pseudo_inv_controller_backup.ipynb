{
 "cells": [
  {
   "attachments": {},
   "cell_type": "markdown",
   "metadata": {},
   "source": [
    "# Jacobian Pseudo Inverse Controller\n",
    "ToDo: Add theory of operation"
   ]
  },
  {
   "attachments": {},
   "cell_type": "markdown",
   "metadata": {},
   "source": [
    "## Run In Simulation"
   ]
  },
  {
   "cell_type": "code",
   "execution_count": null,
   "metadata": {},
   "outputs": [],
   "source": [
    "import time\n",
    "import numpy as np\n",
    "from FR3Py.controllers.waypoint_controller import WaypointController\n",
    "from FR3Py.envs.pybullet import FR3Sim\n",
    "\n",
    "robot = FR3Sim(render_mode='human', mode='velocity', Ts=1/1000)\n",
    "robot.reset()\n",
    "controller = WaypointController(kp=2)\n",
    "while True:\n",
    "    q, dq = robot.get_state()\n",
    "    dq_cmd = controller.compute(q, dq)\n",
    "    robot.step(dq_cmd)\n",
    "    time.sleep(1/1000)"
   ]
  },
  {
   "attachments": {},
   "cell_type": "markdown",
   "metadata": {},
   "source": [
    "## Run With Real Robot"
   ]
  },
  {
   "cell_type": "code",
   "execution_count": null,
   "metadata": {},
   "outputs": [],
   "source": [
    "from FR3Py.interfaces import FR3Real\n",
    "robot = FR3Real()"
   ]
  },
  {
   "cell_type": "markdown",
   "metadata": {},
   "source": [
    "Test the interface by reading the robot joints:"
   ]
  },
  {
   "cell_type": "code",
   "execution_count": null,
   "metadata": {},
   "outputs": [],
   "source": [
    "robot.get_state()"
   ]
  },
  {
   "cell_type": "code",
   "execution_count": null,
   "metadata": {},
   "outputs": [],
   "source": [
    "import time\n",
    "import numpy as np\n",
    "from FR3Py.controllers.waypoint_controller import WaypointController\n",
    "controller = WaypointController(kp=1.5)\n",
    "# Read the initila pose of the robot\n",
    "time.sleep(1)\n",
    "state = robot.get_state()\n",
    "\n",
    "q, dq = state['q'], state['dq']\n",
    "p0 = controller.robot.getInfo(q,dq)['P_EE']\n",
    "R0 = controller.robot.getInfo(q,dq)['R_EE']\n",
    "T0 = np.vstack([np.hstack([R0, p0.reshape(3,1)]), np.array([0,0,0,1])])\n",
    "start_time = time.time()\n",
    "while True:\n",
    "    time.sleep(0.01)\n",
    "    t = time.time()-start_time\n",
    "    x = 0.1*np.sin(t)\n",
    "    T= T0@np.vstack([np.hstack([np.eye(3), np.array([0,0,x]).reshape(3,1)]), np.array([0,0,0,1])])\n",
    "    state = robot.get_state()\n",
    "    q, dq = state['q'], state['dq']\n",
    "    cmd = controller.compute(q,dq, T_cmd=T)\n",
    "    robot.send_joint_command(cmd[0:7])"
   ]
  },
  {
   "attachments": {},
   "cell_type": "markdown",
   "metadata": {},
   "source": [
    "# TF Pose Capture Node"
   ]
  },
  {
   "attachments": {},
   "cell_type": "markdown",
   "metadata": {},
   "source": [
    "Run the following cell to repeatedly read the pose of the wall published as a TF message and set it to a global valirable pose:"
   ]
  },
  {
   "cell_type": "code",
   "execution_count": null,
   "metadata": {},
   "outputs": [],
   "source": [
    "import rospy\n",
    "import tf\n",
    "import time\n",
    "import threading\n",
    "global pose\n",
    "from scipy.spatial.transform import Rotation\n",
    "import numpy as np\n",
    "import pickle\n",
    "from copy import deepcopy\n",
    "\n",
    "rospy.init_node(\"tf_listener_node\")"
   ]
  },
  {
   "cell_type": "code",
   "execution_count": null,
   "metadata": {},
   "outputs": [],
   "source": [
    "def tf_listener_thread():\n",
    "\n",
    "    def get_T(p, R):\n",
    "        T = np.eye(4)\n",
    "        T[:3, :3] = R\n",
    "        T[:3, 3] = p\n",
    "\n",
    "        return T\n",
    "\n",
    "    global pose\n",
    "    global board_pos\n",
    "    global board_ori\n",
    "\n",
    "    camera_to_base_transform = np.load(\"/home/franka-ws/manipulation/data/camera_to_grey_base_transform.npy\")\n",
    "\n",
    "    listener = tf.TransformListener()\n",
    "\n",
    "    # the frame where the data originated\n",
    "    target_frame = \"/camera_color_optical_frame\"\n",
    "\n",
    "    # the frame where the data should be transformed\n",
    "    source_frame = \"/wall\"\n",
    "\n",
    "    listener.waitForTransform(target_frame, source_frame, rospy.Time(), rospy.Duration(4.0))\n",
    "\n",
    "    # Main loop to continuously update the pose\n",
    "    while not rospy.is_shutdown():\n",
    "        try:\n",
    "            (trans, quat) = listener.lookupTransform(target_frame, source_frame, rospy.Time(0))\n",
    "            \n",
    "            pos = np.array(trans)\n",
    "            Rot = Rotation.from_quat(quat).as_matrix()\n",
    "\n",
    "            T = camera_to_base_transform @ get_T(pos, Rot)\n",
    "            board_pos = T[:3, 3]\n",
    "            board_rot = T[:3, :3]\n",
    "            board_ori = Rotation.from_matrix(board_rot).as_quat()\n",
    "\n",
    "            rospy.sleep(0.001)  # Adjust the sleep duration as needed\n",
    "        except (tf.LookupException, tf.ConnectivityException, tf.ExtrapolationException):\n",
    "            rospy.logwarn(\"Error occurred while retrieving TF transform.\")\n",
    "\n",
    "# Initialize the global pose variable\n",
    "pose = None\n",
    "\n",
    "# Create and start the thread\n",
    "tf_thread = threading.Thread(target=tf_listener_thread)\n",
    "tf_thread.start()"
   ]
  },
  {
   "cell_type": "code",
   "execution_count": null,
   "metadata": {},
   "outputs": [],
   "source": [
    "dataset = []\n",
    "initial_time = time.time()\n",
    "\n",
    "for i in range(int(1200)):\n",
    "    dataset.append(\n",
    "        {\n",
    "            \"time\": time.time() - initial_time,\n",
    "            \"board_pos\": deepcopy(board_pos),\n",
    "            \"board_ori\": deepcopy(board_ori),\n",
    "        }\n",
    "    )\n",
    "\n",
    "    time.sleep(1/60)"
   ]
  },
  {
   "cell_type": "code",
   "execution_count": null,
   "metadata": {},
   "outputs": [],
   "source": [
    " with open(\"../data/moving_board_data.pickle\", \"wb\") as handle:\n",
    "        pickle.dump(dataset, handle, protocol=pickle.HIGHEST_PROTOCOL)"
   ]
  }
 ],
 "metadata": {
  "kernelspec": {
   "display_name": "Python 3",
   "language": "python",
   "name": "python3"
  },
  "language_info": {
   "codemirror_mode": {
    "name": "ipython",
    "version": 3
   },
   "file_extension": ".py",
   "mimetype": "text/x-python",
   "name": "python",
   "nbconvert_exporter": "python",
   "pygments_lexer": "ipython3",
   "version": "3.8.15"
  },
  "orig_nbformat": 4,
  "vscode": {
   "interpreter": {
    "hash": "916dbcbb3f70747c44a77c7bcd40155683ae19c65e1c03b4aa3499c5328201f1"
   }
  }
 },
 "nbformat": 4,
 "nbformat_minor": 2
}
