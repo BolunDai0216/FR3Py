{
   "cells": [
      {
         "attachments": {},
         "cell_type": "markdown",
         "metadata": {},
         "source": [
            "# Jacobian Pseudo Inverse Controller\n",
            "ToDo: Add theory of operation"
         ]
      },
      {
         "attachments": {},
         "cell_type": "markdown",
         "metadata": {},
         "source": [
            "## Run In Simulation"
         ]
      },
      {
         "cell_type": "code",
         "execution_count": null,
         "metadata": {},
         "outputs": [],
         "source": [
            "import time\n",
            "import numpy as np\n",
            "from FR3Py.controllers.waypoint_controller import WaypointController\n",
            "from FR3Py.envs.pybullet import FR3Sim\n",
            "\n",
            "robot = FR3Sim(render_mode='human', mode='velocity', Ts=1/1000)\n",
            "robot.reset()\n",
            "controller = WaypointController(kp=2)\n",
            "while True:\n",
            "    q, dq = robot.get_state()\n",
            "    dq_cmd = controller.compute(q, dq)\n",
            "    robot.step(dq_cmd)\n",
            "    time.sleep(1/1000)"
         ]
      },
      {
         "attachments": {},
         "cell_type": "markdown",
         "metadata": {},
         "source": [
            "## Run With Real Robot"
         ]
      },
      {
         "cell_type": "code",
         "execution_count": 1,
         "metadata": {},
         "outputs": [
            {
               "name": "stdout",
               "output_type": "stream",
               "text": [
                  "Interface Running...\n"
               ]
            }
         ],
         "source": [
            "import sys \n",
            "sys.path.append(\"/usr/local/lib/python3.8/site-packages\")\n",
            "from FR3Py.interfaces import FR3Real\n",
            "\n",
            "robot = FR3Real()"
         ]
      },
      {
         "attachments": {},
         "cell_type": "markdown",
         "metadata": {},
         "source": [
            "Test the interface by reading the robot joints:"
         ]
      },
      {
         "cell_type": "code",
         "execution_count": null,
         "metadata": {},
         "outputs": [],
         "source": [
            "robot.get_state()"
         ]
      },
      {
         "cell_type": "code",
         "execution_count": 28,
         "metadata": {},
         "outputs": [
            {
               "name": "stdout",
               "output_type": "stream",
               "text": [
                  "[-9.01207363e-05 -7.85094045e-01  1.43095362e-04 -2.35606960e+00\n",
                  " -3.94108067e-04  1.57092448e+00  7.85301659e-01  0.00000000e+00\n",
                  "  0.00000000e+00] [-3.31773997e-04  1.09744403e-03 -9.75158057e-04 -3.04230352e-04\n",
                  "  3.26794884e-04 -1.27994316e-03 -9.72842622e-05  0.00000000e+00\n",
                  "  0.00000000e+00]\n"
               ]
            }
         ],
         "source": [
            "state = robot.get_state()\n",
            "q, dq = state['q'], state['dq']\n",
            "\n",
            "print(q, dq)"
         ]
      },
      {
         "cell_type": "code",
         "execution_count": 29,
         "metadata": {},
         "outputs": [
            {
               "ename": "KeyboardInterrupt",
               "evalue": "",
               "output_type": "error",
               "traceback": [
                  "\u001b[0;31m---------------------------------------------------------------------------\u001b[0m",
                  "\u001b[0;31mKeyboardInterrupt\u001b[0m                         Traceback (most recent call last)",
                  "\u001b[1;32m/home/bolun/Documents/FR3Py/examples/jacobian_pseudo_inv_controller .ipynb Cell 7\u001b[0m in \u001b[0;36m<cell line: 15>\u001b[0;34m()\u001b[0m\n\u001b[1;32m     <a href='vscode-notebook-cell:/home/bolun/Documents/FR3Py/examples/jacobian_pseudo_inv_controller%20.ipynb#W6sZmlsZQ%3D%3D?line=12'>13</a>\u001b[0m start_time \u001b[39m=\u001b[39m time\u001b[39m.\u001b[39mtime()\n\u001b[1;32m     <a href='vscode-notebook-cell:/home/bolun/Documents/FR3Py/examples/jacobian_pseudo_inv_controller%20.ipynb#W6sZmlsZQ%3D%3D?line=13'>14</a>\u001b[0m \u001b[39mwhile\u001b[39;00m \u001b[39mTrue\u001b[39;00m:\n\u001b[0;32m---> <a href='vscode-notebook-cell:/home/bolun/Documents/FR3Py/examples/jacobian_pseudo_inv_controller%20.ipynb#W6sZmlsZQ%3D%3D?line=14'>15</a>\u001b[0m     time\u001b[39m.\u001b[39;49msleep(\u001b[39m0.01\u001b[39;49m)\n\u001b[1;32m     <a href='vscode-notebook-cell:/home/bolun/Documents/FR3Py/examples/jacobian_pseudo_inv_controller%20.ipynb#W6sZmlsZQ%3D%3D?line=15'>16</a>\u001b[0m     t \u001b[39m=\u001b[39m time\u001b[39m.\u001b[39mtime() \u001b[39m-\u001b[39m start_time\n\u001b[1;32m     <a href='vscode-notebook-cell:/home/bolun/Documents/FR3Py/examples/jacobian_pseudo_inv_controller%20.ipynb#W6sZmlsZQ%3D%3D?line=16'>17</a>\u001b[0m     x \u001b[39m=\u001b[39m \u001b[39m0.1\u001b[39m \u001b[39m*\u001b[39m np\u001b[39m.\u001b[39msin(t)\n",
                  "\u001b[0;31mKeyboardInterrupt\u001b[0m: "
               ]
            }
         ],
         "source": [
            "import time\n",
            "import numpy as np\n",
            "from FR3Py.controllers.waypoint_controller import WaypointController\n",
            "controller = WaypointController(kp=1.5)\n",
            "# Read the initila pose of the robot\n",
            "time.sleep(1)\n",
            "state = robot.get_state()\n",
            "\n",
            "q, dq = state['q'], state['dq']\n",
            "p0 = controller.robot.getInfo(q,dq)['P_EE']\n",
            "R0 = controller.robot.getInfo(q,dq)['R_EE']\n",
            "T0 = np.vstack([np.hstack([R0, p0.reshape(3,1)]), np.array([0,0,0,1])])\n",
            "start_time = time.time()\n",
            "while True:\n",
            "    time.sleep(0.01)\n",
            "    t = time.time() - start_time\n",
            "    x = 0.1 * np.sin(t)\n",
            "    T= T0 @ np.vstack([np.hstack([np.eye(3), np.array([0,0,x]).reshape(3,1)]), np.array([0,0,0,1])])\n",
            "    state = robot.get_state()\n",
            "    q, dq = state['q'], state['dq']\n",
            "    cmd = controller.compute(q, dq, T_cmd=T)\n",
            "    robot.send_joint_command(cmd[0:7])"
         ]
      }
   ],
   "metadata": {
      "kernelspec": {
         "display_name": "Python 3",
         "language": "python",
         "name": "python3"
      },
      "language_info": {
         "codemirror_mode": {
            "name": "ipython",
            "version": 3
         },
         "file_extension": ".py",
         "mimetype": "text/x-python",
         "name": "python",
         "nbconvert_exporter": "python",
         "pygments_lexer": "ipython3",
         "version": "3.8.16"
      }
   },
   "nbformat": 4,
   "nbformat_minor": 2
}