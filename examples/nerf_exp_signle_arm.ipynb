{
 "cells": [
  {
   "attachments": {},
   "cell_type": "markdown",
   "metadata": {},
   "source": [
    "# Control The Robot with Joystick"
   ]
  },
  {
   "cell_type": "code",
   "execution_count": null,
   "metadata": {},
   "outputs": [],
   "source": [
    "from FR3Py.interfaces import FR3Real\n",
    "robot = FR3Real()"
   ]
  },
  {
   "cell_type": "markdown",
   "metadata": {},
   "source": [
    "Test the interface by reading the robot joints:"
   ]
  },
  {
   "cell_type": "code",
   "execution_count": null,
   "metadata": {},
   "outputs": [],
   "source": [
    "robot.get_state()"
   ]
  },
  {
   "cell_type": "code",
   "execution_count": null,
   "metadata": {},
   "outputs": [],
   "source": [
    "from pyJoy.joy_daq import JoyManager\n",
    "import time    \n",
    "joy1  = JoyManager()\n",
    "joy1.start_daq(joy_idx=0)\n",
    "joy1.offset_calibration()\n",
    "time.sleep(3)"
   ]
  },
  {
   "cell_type": "code",
   "execution_count": null,
   "metadata": {},
   "outputs": [],
   "source": [
    "from FR3Py.cameras import RealSenseCamera\n",
    "camera = RealSenseCamera(VGA=False, enable_imu=False, enable_ir=False)"
   ]
  },
  {
   "cell_type": "code",
   "execution_count": null,
   "metadata": {},
   "outputs": [],
   "source": [
    "import time\n",
    "import numpy as np\n",
    "from FR3Py.controllers.waypoint_controller import WaypointController\n",
    "import datetime\n",
    "import os\n",
    "import cv2\n",
    "\n",
    "current_datetime = datetime.datetime.now()\n",
    "formatted_datetime = current_datetime.strftime(\"%Y-%m-%d_%H-%M-%S\")\n",
    "shutter_old = 0 \n",
    "dataset_path = 'dataset/scene2'\n",
    "\n",
    "def write_depth(depth, filename):\n",
    "    depth = depth.astype(np.uint16)\n",
    "    cv2.imwrite(filename, depth)\n",
    "\n",
    "def write_color(color, filename):\n",
    "    color = color.astype(np.uint8)\n",
    "    cv2.imwrite(filename, color)\n",
    "\n",
    "def write_pose(pose, filename):\n",
    "    np.savetxt(filename, pose)\n",
    "    \n",
    "\n",
    "controller = WaypointController(kp=4)\n",
    "# Read the initila pose of the robot\n",
    "time.sleep(1)\n",
    "state = robot.get_state()\n",
    "\n",
    "q, dq = state['q'], state['dq']\n",
    "p0 = controller.robot.getInfo(q,dq)['P_EE']\n",
    "R0 = controller.robot.getInfo(q,dq)['R_EE']\n",
    "\n",
    "T0 = np.vstack([np.hstack([R0, p0.reshape(3,1)]), np.array([0,0,0,1])])\n",
    "start_time = time.time()\n",
    "\n",
    "x0, y0, z0 = 0.0, 0.0, 0.0 \n",
    "R0 = np.eye(3)\n",
    "ef_poses = []\n",
    "stamps = []\n",
    "while True:\n",
    "    trans = controller.robot.getInfo(q,dq)['P_EE']\n",
    "    rot = controller.robot.getInfo(q,dq)['R_EE']\n",
    "    stamps.append(time.time())\n",
    "    pose = np.vstack([np.hstack([rot, trans.reshape(3,1)]), np.array([0,0,0,1])])\n",
    "    ef_poses.append(pose)\n",
    "    \n",
    "    analog, digital = joy1.read_values()\n",
    "    cmd = np.array([analog[0],analog[1],analog[2]])\n",
    "    for i in range(3):\n",
    "        if np.abs(cmd[i])<0.1:\n",
    "            cmd[i] = 0 \n",
    "\n",
    "    if digital[0]==0:\n",
    "        y0 = y0 - cmd[0]*0.2/100\n",
    "        x0 = x0 - cmd[1]*0.2/100\n",
    "        z0 = z0 + cmd[2]*0.2/100\n",
    "    else:\n",
    "        omega_hat = np.array([[ 0,       -cmd[2],  cmd[1]],\n",
    "                              [ cmd[2],   0,      -cmd[0]],\n",
    "                              [-cmd[1],   cmd[0],      0]])\n",
    "        R0 = R0@(np.eye(3)+omega_hat/100)\n",
    "    \n",
    "    camera.grab_frames()\n",
    "    cv2.imshow('color', camera.color_frame)\n",
    "    cv2.waitKey(1)\n",
    "    # Take a snapshot if required\n",
    "    shutter = digital[2]\n",
    "    if shutter==1 and shutter_old==0:\n",
    "        stamp_ns = int(time.time()*1e9)\n",
    "        shutter_old = shutter\n",
    "        depth = camera.depth_frame\n",
    "        color = camera.color_frame\n",
    "        print('Taking a picture')\n",
    "        write_depth(depth, os.path.join(dataset_path, 'depth', f'{stamp_ns}.png'))\n",
    "        write_color(color, os.path.join(dataset_path, 'color', f'{stamp_ns}.png'))\n",
    "        write_pose(pose, os.path.join(dataset_path, 'pose', f'{stamp_ns}.txt'))\n",
    "    else:\n",
    "        shutter_old = shutter\n",
    "    # time.sleep(0.01)\n",
    "    T= T0@np.vstack([np.hstack([R0, np.array([x0,y0,z0]).reshape(3,1)]), np.array([0,0,0,1])])\n",
    "    state = robot.get_state()\n",
    "    q, dq = state['q'], state['dq']\n",
    "    cmd = controller.compute(q,dq, T_cmd=T)\n",
    "    robot.send_joint_command(cmd[0:7])"
   ]
  },
  {
   "cell_type": "code",
   "execution_count": null,
   "metadata": {},
   "outputs": [],
   "source": []
  }
 ],
 "metadata": {
  "kernelspec": {
   "display_name": "Python 3",
   "language": "python",
   "name": "python3"
  },
  "language_info": {
   "codemirror_mode": {
    "name": "ipython",
    "version": 3
   },
   "file_extension": ".py",
   "mimetype": "text/x-python",
   "name": "python",
   "nbconvert_exporter": "python",
   "pygments_lexer": "ipython3",
   "version": "3.8.15"
  },
  "orig_nbformat": 4,
  "vscode": {
   "interpreter": {
    "hash": "916dbcbb3f70747c44a77c7bcd40155683ae19c65e1c03b4aa3499c5328201f1"
   }
  }
 },
 "nbformat": 4,
 "nbformat_minor": 2
}
