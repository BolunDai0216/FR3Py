{
 "cells": [
  {
   "attachments": {},
   "cell_type": "markdown",
   "metadata": {},
   "source": [
    "# Control The Robot with Joystick"
   ]
  },
  {
   "cell_type": "code",
   "execution_count": 1,
   "metadata": {},
   "outputs": [
    {
     "name": "stdout",
     "output_type": "stream",
     "text": [
      "Interface Running...\n"
     ]
    }
   ],
   "source": [
    "from FR3Py.interfaces import FR3Real\n",
    "robot = FR3Real()"
   ]
  },
  {
   "cell_type": "markdown",
   "metadata": {},
   "source": [
    "Test the interface by reading the robot joints:"
   ]
  },
  {
   "cell_type": "code",
   "execution_count": 16,
   "metadata": {},
   "outputs": [
    {
     "data": {
      "text/plain": [
       "{'q': array([-3.26072226e-04, -7.84897694e-01, -3.54046940e-04, -2.35627899e+00,\n",
       "        -3.85718082e-04,  1.56990105e+00,  7.85117351e-01,  0.00000000e+00,\n",
       "         0.00000000e+00]),\n",
       " 'dq': array([ 0.00065008, -0.00058677, -0.00026289,  0.00161526, -0.00014949,\n",
       "        -0.00067228,  0.00076771,  0.        ,  0.        ]),\n",
       " 'T': array([ 0.41588092, -4.55825138, -0.30787149, 22.84637642,  1.03245449,\n",
       "         2.63653326,  0.10467696,  0.        ,  0.        ])}"
      ]
     },
     "execution_count": 16,
     "metadata": {},
     "output_type": "execute_result"
    }
   ],
   "source": [
    "robot.get_state()"
   ]
  },
  {
   "cell_type": "code",
   "execution_count": 3,
   "metadata": {},
   "outputs": [
    {
     "name": "stdout",
     "output_type": "stream",
     "text": [
      "pygame 2.5.1 (SDL 2.28.2, Python 3.8.15)\n",
      "Hello from the pygame community. https://www.pygame.org/contribute.html\n",
      "Put your stick at zero location and do not touch it\n"
     ]
    }
   ],
   "source": [
    "from pyJoy.joy_daq import JoyManager\n",
    "import time    \n",
    "joy1  = JoyManager()\n",
    "joy1.start_daq(joy_idx=0)\n",
    "joy1.offset_calibration()\n",
    "time.sleep(3)"
   ]
  },
  {
   "cell_type": "code",
   "execution_count": 17,
   "metadata": {},
   "outputs": [
    {
     "ename": "KeyboardInterrupt",
     "evalue": "",
     "output_type": "error",
     "traceback": [
      "\u001b[0;31m---------------------------------------------------------------------------\u001b[0m",
      "\u001b[0;31mKeyboardInterrupt\u001b[0m                         Traceback (most recent call last)",
      "\u001b[1;32m/home/mocap/manipulation/rooholla/FR3Py/examples/joystick_control.ipynb Cell 6\u001b[0m line \u001b[0;36m4\n\u001b[1;32m     <a href='vscode-notebook-cell:/home/mocap/manipulation/rooholla/FR3Py/examples/joystick_control.ipynb#W5sZmlsZQ%3D%3D?line=41'>42</a>\u001b[0m     omega_hat \u001b[39m=\u001b[39m np\u001b[39m.\u001b[39marray([[ \u001b[39m0\u001b[39m,       \u001b[39m-\u001b[39mcmd[\u001b[39m2\u001b[39m],  cmd[\u001b[39m1\u001b[39m]],\n\u001b[1;32m     <a href='vscode-notebook-cell:/home/mocap/manipulation/rooholla/FR3Py/examples/joystick_control.ipynb#W5sZmlsZQ%3D%3D?line=42'>43</a>\u001b[0m                           [ cmd[\u001b[39m2\u001b[39m],   \u001b[39m0\u001b[39m,      \u001b[39m-\u001b[39mcmd[\u001b[39m0\u001b[39m]],\n\u001b[1;32m     <a href='vscode-notebook-cell:/home/mocap/manipulation/rooholla/FR3Py/examples/joystick_control.ipynb#W5sZmlsZQ%3D%3D?line=43'>44</a>\u001b[0m                           [\u001b[39m-\u001b[39mcmd[\u001b[39m1\u001b[39m],   cmd[\u001b[39m0\u001b[39m],      \u001b[39m0\u001b[39m]])\n\u001b[1;32m     <a href='vscode-notebook-cell:/home/mocap/manipulation/rooholla/FR3Py/examples/joystick_control.ipynb#W5sZmlsZQ%3D%3D?line=44'>45</a>\u001b[0m     R0 \u001b[39m=\u001b[39m R0\u001b[39m@\u001b[39m(np\u001b[39m.\u001b[39meye(\u001b[39m3\u001b[39m)\u001b[39m+\u001b[39momega_hat\u001b[39m/\u001b[39m\u001b[39m100\u001b[39m)\n\u001b[0;32m---> <a href='vscode-notebook-cell:/home/mocap/manipulation/rooholla/FR3Py/examples/joystick_control.ipynb#W5sZmlsZQ%3D%3D?line=46'>47</a>\u001b[0m time\u001b[39m.\u001b[39;49msleep(\u001b[39m0.01\u001b[39;49m)\n\u001b[1;32m     <a href='vscode-notebook-cell:/home/mocap/manipulation/rooholla/FR3Py/examples/joystick_control.ipynb#W5sZmlsZQ%3D%3D?line=47'>48</a>\u001b[0m T\u001b[39m=\u001b[39m T0\u001b[39m@np\u001b[39m\u001b[39m.\u001b[39mvstack([np\u001b[39m.\u001b[39mhstack([R0, np\u001b[39m.\u001b[39marray([x0,y0,z0])\u001b[39m.\u001b[39mreshape(\u001b[39m3\u001b[39m,\u001b[39m1\u001b[39m)]), np\u001b[39m.\u001b[39marray([\u001b[39m0\u001b[39m,\u001b[39m0\u001b[39m,\u001b[39m0\u001b[39m,\u001b[39m1\u001b[39m])])\n\u001b[1;32m     <a href='vscode-notebook-cell:/home/mocap/manipulation/rooholla/FR3Py/examples/joystick_control.ipynb#W5sZmlsZQ%3D%3D?line=48'>49</a>\u001b[0m state \u001b[39m=\u001b[39m robot\u001b[39m.\u001b[39mget_state()\n",
      "\u001b[0;31mKeyboardInterrupt\u001b[0m: "
     ]
    }
   ],
   "source": [
    "import time\n",
    "import numpy as np\n",
    "from FR3Py.controllers.waypoint_controller import WaypointController\n",
    "import datetime\n",
    "current_datetime = datetime.datetime.now()\n",
    "formatted_datetime = current_datetime.strftime(\"%Y-%m-%d_%H-%M-%S\")\n",
    "\n",
    "controller = WaypointController(kp=4)\n",
    "# Read the initila pose of the robot\n",
    "time.sleep(1)\n",
    "state = robot.get_state()\n",
    "\n",
    "q, dq = state['q'], state['dq']\n",
    "p0 = controller.robot.getInfo(q,dq)['P_EE']\n",
    "R0 = controller.robot.getInfo(q,dq)['R_EE']\n",
    "\n",
    "T0 = np.vstack([np.hstack([R0, p0.reshape(3,1)]), np.array([0,0,0,1])])\n",
    "start_time = time.time()\n",
    "\n",
    "x0, y0, z0 = 0.0, 0.0, 0.0 \n",
    "R0 = np.eye(3)\n",
    "ef_poses = []\n",
    "stamps = []\n",
    "while True:\n",
    "    trans = controller.robot.getInfo(q,dq)['P_EE']\n",
    "    rot = controller.robot.getInfo(q,dq)['R_EE']\n",
    "    stamps.append(time.time())\n",
    "    pose = np.vstack([np.hstack([rot, trans.reshape(3,1)]), np.array([0,0,0,1])])\n",
    "    ef_poses.append(pose)\n",
    "    \n",
    "    analog, digital = joy1.read_values()\n",
    "    cmd = np.array([analog[0],analog[1],analog[2]])\n",
    "    for i in range(3):\n",
    "        if np.abs(cmd[i])<0.1:\n",
    "            cmd[i] = 0 \n",
    "\n",
    "    if digital[0]==0:\n",
    "        y0 = y0 - cmd[0]*0.2/100\n",
    "        x0 = x0 - cmd[1]*0.2/100\n",
    "        z0 = z0 + cmd[2]*0.2/100\n",
    "    else:\n",
    "        omega_hat = np.array([[ 0,       -cmd[2],  cmd[1]],\n",
    "                              [ cmd[2],   0,      -cmd[0]],\n",
    "                              [-cmd[1],   cmd[0],      0]])\n",
    "        R0 = R0@(np.eye(3)+omega_hat/100)\n",
    "\n",
    "    time.sleep(0.01)\n",
    "    T= T0@np.vstack([np.hstack([R0, np.array([x0,y0,z0]).reshape(3,1)]), np.array([0,0,0,1])])\n",
    "    state = robot.get_state()\n",
    "    q, dq = state['q'], state['dq']\n",
    "    cmd = controller.compute(q,dq, T_cmd=T)\n",
    "    robot.send_joint_command(cmd[0:7])"
   ]
  },
  {
   "cell_type": "code",
   "execution_count": 26,
   "metadata": {},
   "outputs": [],
   "source": [
    "import pickle\n",
    "ef_poses = np.stack(ef_poses)\n",
    "stamps = np.array(stamps)\n",
    "dataset = {'stamp':stamps, 'base_T_ef':ef_poses}\n",
    "with open(f'nerf_dataset1_{formatted_datetime}.pckl', 'wb') as f:\n",
    "    pickle.dump(dataset,f)"
   ]
  },
  {
   "cell_type": "code",
   "execution_count": 24,
   "metadata": {},
   "outputs": [
    {
     "data": {
      "text/plain": [
       "{'stamp': array([1.69344500e+09, 1.69344500e+09, 1.69344500e+09, ...,\n",
       "        1.69344516e+09, 1.69344516e+09, 1.69344516e+09]),\n",
       " 'base_T_ef': array([[[ 0.99844215, -0.0500552 ,  0.02465269,  0.38426484],\n",
       "         [-0.04964913, -0.99862512, -0.01681783, -0.05075856],\n",
       "         [ 0.02546061,  0.01556764, -0.9995546 ,  0.43348248],\n",
       "         [ 0.        ,  0.        ,  0.        ,  1.        ]],\n",
       " \n",
       "        [[ 0.9984424 , -0.05004603,  0.02466099,  0.38426553],\n",
       "         [-0.04963985, -0.99862559, -0.01681693, -0.05075778],\n",
       "         [ 0.02546871,  0.01556657, -0.99955441,  0.43348508],\n",
       "         [ 0.        ,  0.        ,  0.        ,  1.        ]],\n",
       " \n",
       "        [[ 0.99844199, -0.050056  ,  0.02465755,  0.38426473],\n",
       "         [-0.04964989, -0.99862511, -0.01681617, -0.05075906],\n",
       "         [ 0.0254654 ,  0.01556572, -0.99955451,  0.43348342],\n",
       "         [ 0.        ,  0.        ,  0.        ,  1.        ]],\n",
       " \n",
       "        ...,\n",
       " \n",
       "        [[ 0.81250644, -0.10076659, -0.57417713,  0.51478534],\n",
       "         [-0.04000518, -0.99226332,  0.11752911, -0.37099336],\n",
       "         [-0.58157792, -0.0725231 , -0.81025152,  0.34254977],\n",
       "         [ 0.        ,  0.        ,  0.        ,  1.        ]],\n",
       " \n",
       "        [[ 0.81250644, -0.10076659, -0.57417713,  0.51478534],\n",
       "         [-0.04000518, -0.99226332,  0.11752911, -0.37099336],\n",
       "         [-0.58157792, -0.0725231 , -0.81025152,  0.34254977],\n",
       "         [ 0.        ,  0.        ,  0.        ,  1.        ]],\n",
       " \n",
       "        [[ 0.81250644, -0.10076659, -0.57417713,  0.51478534],\n",
       "         [-0.04000518, -0.99226332,  0.11752911, -0.37099336],\n",
       "         [-0.58157792, -0.0725231 , -0.81025152,  0.34254977],\n",
       "         [ 0.        ,  0.        ,  0.        ,  1.        ]]])}"
      ]
     },
     "execution_count": 24,
     "metadata": {},
     "output_type": "execute_result"
    }
   ],
   "source": [
    "dataset"
   ]
  },
  {
   "cell_type": "code",
   "execution_count": 18,
   "metadata": {},
   "outputs": [],
   "source": [
    "import pickle\n",
    "ef_poses = np.stack(ef_poses)\n",
    "stamps = np.array(stamps)\n",
    "dataset = {'stamp':stamps, 'base_T_ef':ef_poses}\n",
    "with open('ef_poses.pckl', 'wb') as f:\n",
    "    pickle.dump(dataset,f)"
   ]
  },
  {
   "cell_type": "markdown",
   "metadata": {},
   "source": [
    "dataset"
   ]
  },
  {
   "cell_type": "code",
   "execution_count": 19,
   "metadata": {},
   "outputs": [
    {
     "data": {
      "text/plain": [
       "{'stamp': array([1.69816514e+09, 1.69816514e+09, 1.69816514e+09, ...,\n",
       "        1.69816529e+09, 1.69816529e+09, 1.69816529e+09]),\n",
       " 'base_T_ef': array([[[ 9.99998862e-01, -2.92427289e-04, -1.48025340e-03,\n",
       "           3.06768725e-01],\n",
       "         [-2.92630686e-04, -9.99999948e-01, -1.37192000e-04,\n",
       "          -2.97509097e-04],\n",
       "         [-1.48021321e-03,  1.37625012e-04, -9.99998895e-01,\n",
       "           4.86610338e-01],\n",
       "         [ 0.00000000e+00,  0.00000000e+00,  0.00000000e+00,\n",
       "           1.00000000e+00]],\n",
       " \n",
       "        [[ 9.99998858e-01, -2.84108759e-04, -1.48461798e-03,\n",
       "           3.06768273e-01],\n",
       "         [-2.84308954e-04, -9.99999951e-01, -1.34636483e-04,\n",
       "          -2.96123958e-04],\n",
       "         [-1.48457966e-03,  1.35058420e-04, -9.99998889e-01,\n",
       "           4.86607777e-01],\n",
       "         [ 0.00000000e+00,  0.00000000e+00,  0.00000000e+00,\n",
       "           1.00000000e+00]],\n",
       " \n",
       "        [[ 9.99998855e-01, -2.81865608e-04, -1.48676296e-03,\n",
       "           3.06767394e-01],\n",
       "         [-2.82061366e-04, -9.99999952e-01, -1.31459480e-04,\n",
       "          -2.94022201e-04],\n",
       "         [-1.48672583e-03,  1.31878688e-04, -9.99998886e-01,\n",
       "           4.86606631e-01],\n",
       "         [ 0.00000000e+00,  0.00000000e+00,  0.00000000e+00,\n",
       "           1.00000000e+00]],\n",
       " \n",
       "        ...,\n",
       " \n",
       "        [[ 9.21869406e-01,  2.50304464e-01,  2.95811552e-01,\n",
       "           4.00147322e-01],\n",
       "         [ 2.12628549e-01, -9.64943446e-01,  1.53861123e-01,\n",
       "           1.24691100e-01],\n",
       "         [ 3.23953544e-01, -7.89418812e-02, -9.42773717e-01,\n",
       "           5.70620186e-01],\n",
       "         [ 0.00000000e+00,  0.00000000e+00,  0.00000000e+00,\n",
       "           1.00000000e+00]],\n",
       " \n",
       "        [[ 9.21864905e-01,  2.50314623e-01,  2.95816981e-01,\n",
       "           4.00146074e-01],\n",
       "         [ 2.12637652e-01, -9.64940951e-01,  1.53864195e-01,\n",
       "           1.24692724e-01],\n",
       "         [ 3.23960377e-01, -7.89401736e-02, -9.42771512e-01,\n",
       "           5.70621734e-01],\n",
       "         [ 0.00000000e+00,  0.00000000e+00,  0.00000000e+00,\n",
       "           1.00000000e+00]],\n",
       " \n",
       "        [[ 9.21867221e-01,  2.50308686e-01,  2.95814789e-01,\n",
       "           4.00146662e-01],\n",
       "         [ 2.12633247e-01, -9.64942672e-01,  1.53859487e-01,\n",
       "           1.24689845e-01],\n",
       "         [ 3.23956679e-01, -7.89379589e-02, -9.42772968e-01,\n",
       "           5.70621864e-01],\n",
       "         [ 0.00000000e+00,  0.00000000e+00,  0.00000000e+00,\n",
       "           1.00000000e+00]]])}"
      ]
     },
     "execution_count": 19,
     "metadata": {},
     "output_type": "execute_result"
    }
   ],
   "source": [
    "dataset"
   ]
  },
  {
   "cell_type": "code",
   "execution_count": null,
   "metadata": {},
   "outputs": [],
   "source": []
  }
 ],
 "metadata": {
  "kernelspec": {
   "display_name": "Python 3",
   "language": "python",
   "name": "python3"
  },
  "language_info": {
   "codemirror_mode": {
    "name": "ipython",
    "version": 3
   },
   "file_extension": ".py",
   "mimetype": "text/x-python",
   "name": "python",
   "nbconvert_exporter": "python",
   "pygments_lexer": "ipython3",
   "version": "3.8.15"
  },
  "orig_nbformat": 4,
  "vscode": {
   "interpreter": {
    "hash": "916dbcbb3f70747c44a77c7bcd40155683ae19c65e1c03b4aa3499c5328201f1"
   }
  }
 },
 "nbformat": 4,
 "nbformat_minor": 2
}
