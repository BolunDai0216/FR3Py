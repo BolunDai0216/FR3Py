{
 "cells": [
  {
   "cell_type": "code",
   "execution_count": 1,
   "metadata": {},
   "outputs": [],
   "source": [
    "import select\n",
    "import threading\n",
    "import time\n",
    "from time import sleep\n",
    "import numpy as np\n",
    "import pinocchio as pin\n",
    "from FR3Py.lcm_msgs.fr3_states import fr3_state\n",
    "from FR3Py.lcm_msgs.fr3_commands import fr3_cmd\n",
    "import lcm\n",
    "\n",
    "class FR3Real:\n",
    "    def __init__(\n",
    "        self,\n",
    "        robot_name = 'franka',\n",
    "        interface_type = 'joint_velocity',\n",
    "    ):\n",
    "        \n",
    "        self.state = None\n",
    "        self.trigger_timestamp = 0\n",
    "        self.robot_name = robot_name\n",
    "        self.state_topic_name = f'{robot_name}_state'\n",
    "        self.command_topic_name = f'{robot_name}_command'\n",
    "        self.states_msg = fr3_state()\n",
    "        self.command_msg = fr3_cmd()\n",
    "        self.user_callback = None\n",
    "        # Threading Interface for handleing LCM\n",
    "        self.lc = lcm.LCM(\"udpm://239.255.76.67:7667?ttl=1\")\n",
    "        self.subscription = self.lc.subscribe(self.state_topic_name, self.update)\n",
    "        self.subscription.set_queue_capacity(1)\n",
    "        self.running = True\n",
    "        self.lcm_thread = threading.Thread(target=self.LCMThreadFunc)\n",
    "        self.lcm_thread.start()\n",
    "        sleep(0.2)\n",
    "        print(\"Interface Running...\")\n",
    "\n",
    "    def LCMThreadFunc(self):\n",
    "        while self.running:\n",
    "            rfds, wfds, efds = select.select([self.lc.fileno()], [], [], 0.5)\n",
    "            if rfds: # Handle only if there are data in the interface file\n",
    "                self.lc.handle()\n",
    "\n",
    "    def update(self, channel, data):\n",
    "        msg = fr3_state.decode(data)\n",
    "        self.trigger_timestamp = np.array(msg.timestamp) / 1000000\n",
    "        q = np.hstack([msg.q,np.zeros((2))])\n",
    "        dq = np.hstack([msg.dq,np.zeros((2))])\n",
    "        T = np.hstack([msg.T,np.zeros((2))])\n",
    "        self.joint_state = {\n",
    "            'q':q,\n",
    "            'dq':dq,\n",
    "            'T':T\n",
    "        }\n",
    "        # Call an arbitrary user callback \n",
    "        if self.user_callback is not None:\n",
    "            self.user_callback(self.joint_state)\n",
    "        \n",
    "    def readStates(self):\n",
    "        if time.time()-self.trigger_timestamp > 0.2:\n",
    "            self.state = None\n",
    "            return None\n",
    "        else:\n",
    "            return self.joint_state\n",
    "\n",
    "    def setCommand(self, cmd):\n",
    "        self.command_msg.timestamp = int(self.trigger_timestamp*1000000)\n",
    "        self.command_msg.cmd = cmd.tolist()\n",
    "        self.lc.publish(self.command_topic_name, self.command_msg.encode())\n",
    "        self.cmd_log = cmd\n",
    "\n",
    "    def close(self):\n",
    "        self.running = False\n",
    "        self.lcm_thread.join()\n",
    "        self.lc.unsubscribe(self.subscription)\n",
    "        del self.lc\n",
    "        print(\"Interface Closed.\")        "
   ]
  },
  {
   "cell_type": "code",
   "execution_count": 2,
   "metadata": {},
   "outputs": [
    {
     "name": "stdout",
     "output_type": "stream",
     "text": [
      "Interface Running...\n"
     ]
    }
   ],
   "source": [
    "robot = FR3Real()"
   ]
  },
  {
   "cell_type": "code",
   "execution_count": 3,
   "metadata": {},
   "outputs": [
    {
     "data": {
      "text/plain": [
       "{'q': array([ 1.56080920e-04, -7.83416164e-01,  5.42247825e-05, -2.35662164e+00,\n",
       "        -4.52129523e-04,  1.56974264e+00,  7.85576644e-01,  0.00000000e+00,\n",
       "         0.00000000e+00]),\n",
       " 'dq': array([ 0.00035184,  0.00144607, -0.0004635 , -0.00127268,  0.00027632,\n",
       "        -0.00075314, -0.00084794,  0.        ,  0.        ]),\n",
       " 'T': array([-1.86634406e-01, -4.22522640e+00, -7.62312770e-01,  2.31327038e+01,\n",
       "         9.41514015e-01,  2.43543196e+00,  9.06659663e-03,  0.00000000e+00,\n",
       "         0.00000000e+00])}"
      ]
     },
     "execution_count": 3,
     "metadata": {},
     "output_type": "execute_result"
    }
   ],
   "source": [
    "robot.readStates()"
   ]
  },
  {
   "cell_type": "code",
   "execution_count": 4,
   "metadata": {},
   "outputs": [
    {
     "ename": "KeyboardInterrupt",
     "evalue": "",
     "output_type": "error",
     "traceback": [
      "\u001b[0;31m---------------------------------------------------------------------------\u001b[0m",
      "\u001b[0;31mKeyboardInterrupt\u001b[0m                         Traceback (most recent call last)",
      "Cell \u001b[0;32mIn[4], line 2\u001b[0m\n\u001b[1;32m      1\u001b[0m \u001b[39mwhile\u001b[39;00m \u001b[39mTrue\u001b[39;00m:\n\u001b[0;32m----> 2\u001b[0m     sleep(\u001b[39m0.001\u001b[39;49m)\n\u001b[1;32m      3\u001b[0m     robot\u001b[39m.\u001b[39msetCommand(np\u001b[39m.\u001b[39mzeros(\u001b[39m7\u001b[39m))\n",
      "\u001b[0;31mKeyboardInterrupt\u001b[0m: "
     ]
    }
   ],
   "source": [
    "while True:\n",
    "    sleep(0.001)\n",
    "    robot.setCommand(np.zeros(7))"
   ]
  }
 ],
 "metadata": {
  "kernelspec": {
   "display_name": "Python 3",
   "language": "python",
   "name": "python3"
  },
  "language_info": {
   "codemirror_mode": {
    "name": "ipython",
    "version": 3
   },
   "file_extension": ".py",
   "mimetype": "text/x-python",
   "name": "python",
   "nbconvert_exporter": "python",
   "pygments_lexer": "ipython3",
   "version": "3.8.16"
  },
  "orig_nbformat": 4,
  "vscode": {
   "interpreter": {
    "hash": "916dbcbb3f70747c44a77c7bcd40155683ae19c65e1c03b4aa3499c5328201f1"
   }
  }
 },
 "nbformat": 4,
 "nbformat_minor": 2
}
