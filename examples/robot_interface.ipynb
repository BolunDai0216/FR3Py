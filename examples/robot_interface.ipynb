{
   "cells": [
      {
         "attachments": {},
         "cell_type": "markdown",
         "metadata": {},
         "source": [
            "# Robot Interface Example\n",
            "\n",
            "## C++ Driver\n",
            "\n",
            "This notebook shows how to connect to the robot and send joint velocity/torque commands to it. Before running the notebook, make sure you enable the FCI interface and run the C++ fr3_bridge as follows:\n",
            "\n",
            "**Joint Velocity Interface**\n",
            "```bash\n",
            "fr3_joint_interface 10.42.0.4 franka velocity\n",
            "```\n",
            "\n",
            "**Joint Torque Interface**\n",
            "```bash\n",
            "fr3_joint_interface 10.42.0.4 franka torque\n",
            "```\n",
            "\n",
            "**Note**: If the robot is connected to another computer, make sure that the two computers are on the same local network. Also use the `tools/multicast_config.py` tool to enable the multicast on both computers:\n",
            "\n",
            "```bash\n",
            "sudo tools/multicast_config.py <interface name>\n",
            "```\n",
            "where interface name is network interface that is on the same local network with the computer connected to the robot. (The computer running the real-time kernel)\n",
            "\n",
            "## Python Bridge\n",
            "\n",
            "Now that the interface is up, we can communicate with the robot through Python. Let's instantiate the communication manager:"
         ]
      },
      {
         "cell_type": "code",
         "execution_count": 4,
         "metadata": {},
         "outputs": [
            {
               "name": "stdout",
               "output_type": "stream",
               "text": [
                  "Interface Running...\n"
               ]
            }
         ],
         "source": [
            "import sys \n",
            "from FR3Py.robot.interface import FR3RobotInterface\n",
            "robot = FR3RobotInterface()"
         ]
      },
      {
         "attachments": {},
         "cell_type": "markdown",
         "metadata": {},
         "source": [
            "If the interface the successfully exchanging data between the robot and the Python side, we should be able to read the state of the robot. Otherwise, we will get a None."
         ]
      },
      {
         "cell_type": "code",
         "execution_count": 5,
         "metadata": {},
         "outputs": [],
         "source": [
            "robot.getStates()"
         ]
      },
      {
         "cell_type": "markdown",
         "metadata": {},
         "source": [
            "Now that we successfully read the state, let's use a simple Jacobian pseudo inverse controller to command the robot's end-effector along the cartesian Z axis:"
         ]
      },
      {
         "cell_type": "code",
         "execution_count": 6,
         "metadata": {},
         "outputs": [
            {
               "name": "stdout",
               "output_type": "stream",
               "text": [
                  "State is None. check the connection\n"
               ]
            }
         ],
         "source": [
            "import time\n",
            "import numpy as np\n",
            "from FR3Py.controllers.jacobianPseudoInv import WaypointController\n",
            "\n",
            "controller = WaypointController(kp=1.5)\n",
            "# Read the initial state of the robot\n",
            "state = robot.getStates()\n",
            "if state is not None:\n",
            "    q, dq = state['q'], state['dq']\n",
            "    p0 = controller.robot.getInfo(q,dq)['P_EE']\n",
            "    R0 = controller.robot.getInfo(q,dq)['R_EE']\n",
            "    T0 = np.vstack([np.hstack([R0, p0.reshape(3,1)]), np.array([0,0,0,1])])\n",
            "    \n",
            "    start_time = time.time()\n",
            "    while True:\n",
            "        time.sleep(0.01)\n",
            "        t = time.time() - start_time\n",
            "        x = 0.1 * np.sin(t)\n",
            "        T= T0 @ np.vstack([np.hstack([np.eye(3), np.array([0,0,x]).reshape(3,1)]), np.array([0,0,0,1])])\n",
            "        state = robot.get_state()\n",
            "        q, dq = state['q'], state['dq']\n",
            "        cmd = controller.compute(q, dq, T_cmd=T)\n",
            "        robot.send_joint_command(cmd[0:7])\n",
            "else:\n",
            "    print('State is None. check the connection')"
         ]
      },
      {
         "cell_type": "code",
         "execution_count": null,
         "metadata": {},
         "outputs": [],
         "source": []
      }
   ],
   "metadata": {
      "kernelspec": {
         "display_name": "Python 3",
         "language": "python",
         "name": "python3"
      },
      "language_info": {
         "codemirror_mode": {
            "name": "ipython",
            "version": 3
         },
         "file_extension": ".py",
         "mimetype": "text/x-python",
         "name": "python",
         "nbconvert_exporter": "python",
         "pygments_lexer": "ipython3",
         "version": "3.8.12"
      }
   },
   "nbformat": 4,
   "nbformat_minor": 2
}
