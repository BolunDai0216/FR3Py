{
 "cells": [
  {
   "cell_type": "code",
   "execution_count": 1,
   "metadata": {},
   "outputs": [],
   "source": [
    "import lcm\n",
    "\n",
    "def new_msg(channel, data):\n",
    "    print(data.timestamp)"
   ]
  },
  {
   "cell_type": "code",
   "execution_count": 2,
   "metadata": {},
   "outputs": [],
   "source": [
    "# lc = lcm.LCM(\"udpm://239.255.76.67:7667?ttl=1\")\n",
    "lc = lcm.LCM()"
   ]
  },
  {
   "cell_type": "code",
   "execution_count": 3,
   "metadata": {},
   "outputs": [
    {
     "data": {
      "text/plain": [
       "<LCMSubscription at 0x7fc25c0881b0>"
      ]
     },
     "execution_count": 3,
     "metadata": {},
     "output_type": "execute_result"
    }
   ],
   "source": [
    "lc.subscribe('franka_dynamic_states',new_msg)"
   ]
  },
  {
   "cell_type": "code",
   "execution_count": 4,
   "metadata": {},
   "outputs": [
    {
     "ename": "AttributeError",
     "evalue": "'bytes' object has no attribute 'timestamp'",
     "output_type": "error",
     "traceback": [
      "\u001b[0;31m---------------------------------------------------------------------------\u001b[0m",
      "\u001b[0;31mAttributeError\u001b[0m                            Traceback (most recent call last)",
      "Cell \u001b[0;32mIn[4], line 2\u001b[0m\n\u001b[1;32m      1\u001b[0m \u001b[39m# while True:\u001b[39;00m\n\u001b[0;32m----> 2\u001b[0m lc\u001b[39m.\u001b[39;49mhandle()\n",
      "Cell \u001b[0;32mIn[1], line 3\u001b[0m, in \u001b[0;36mnew_msg\u001b[0;34m(channel, data)\u001b[0m\n\u001b[1;32m      2\u001b[0m \u001b[39mdef\u001b[39;00m \u001b[39mnew_msg\u001b[39m(channel, data):\n\u001b[0;32m----> 3\u001b[0m     \u001b[39mprint\u001b[39m(data\u001b[39m.\u001b[39;49mtimestamp)\n",
      "\u001b[0;31mAttributeError\u001b[0m: 'bytes' object has no attribute 'timestamp'"
     ]
    }
   ],
   "source": [
    "# while True:\n",
    "lc.handle()"
   ]
  },
  {
   "cell_type": "code",
   "execution_count": null,
   "metadata": {},
   "outputs": [],
   "source": [
    "from fr3_commands import fr3_joint_cmd"
   ]
  },
  {
   "cell_type": "code",
   "execution_count": null,
   "metadata": {},
   "outputs": [],
   "source": []
  }
 ],
 "metadata": {
  "kernelspec": {
   "display_name": "Python 3",
   "language": "python",
   "name": "python3"
  },
  "language_info": {
   "codemirror_mode": {
    "name": "ipython",
    "version": 3
   },
   "file_extension": ".py",
   "mimetype": "text/x-python",
   "name": "python",
   "nbconvert_exporter": "python",
   "pygments_lexer": "ipython3",
   "version": "3.8.16"
  },
  "orig_nbformat": 4
 },
 "nbformat": 4,
 "nbformat_minor": 2
}
